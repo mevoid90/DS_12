{
 "cells":[
  {
   "cell_type":"code",
   "source":[
    "pwrd= input('Введите пароль')\n",
    "bool=True\n",
    "\n",
    "if (len(pwrd)>=8) and (\"@\" in pwrd or \"#\" in pwrd):\n",
    "    bool=True\n",
    "else: bool=False\n",
    "print(bool)\n",
    "    "
   ],
   "execution_count":4,
   "outputs":[
    {
     "name":"stdout",
     "text":[
      "Введите пароль sdfsdfsdf#\n",
      "True\n"
     ],
     "output_type":"stream"
    }
   ],
   "metadata":{
    "datalore":{
     "type":"CODE",
     "hide_input_from_viewers":false,
     "hide_output_from_viewers":false
    }
   }
  },
  {
   "cell_type":"code",
   "source":[
    
   ],
   "execution_count":null,
   "outputs":[
    
   ],
   "metadata":{
    "datalore":{
     "type":"CODE",
     "hide_input_from_viewers":false,
     "hide_output_from_viewers":false
    }
   }
  }
 ],
 "metadata":{
  "datalore":{
   "version":1,
   "computation_mode":"JUPYTER",
   "package_manager":"pip",
   "base_environment":"default",
   "packages":[
    
   ]
  }
 },
 "nbformat":4,
 "nbformat_minor":4
}