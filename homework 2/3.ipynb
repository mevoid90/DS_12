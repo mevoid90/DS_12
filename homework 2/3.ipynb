{
 "cells":[
  {
   "cell_type":"code",
   "source":[
    "\n",
    "char=input('Введите символ char')\n",
    "a=ord(char)\n",
    "char_before=a-1\n",
    "char_next=a+1\n",
    "\n",
    "\n",
    "print( 'Символ перед '+ chr(char_before)  )\n",
    "print( 'Символ после '+ chr(char_next)  )"
   ],
   "execution_count":16,
   "outputs":[
    {
     "name":"stdout",
     "text":[
      "Введите символ char g\n",
      "Символ перед f\n",
      "Символ после h\n"
     ],
     "output_type":"stream"
    }
   ],
   "metadata":{
    "datalore":{
     "type":"CODE",
     "hide_input_from_viewers":false,
     "hide_output_from_viewers":false
    }
   }
  },
  {
   "cell_type":"code",
   "source":[
    
   ],
   "execution_count":null,
   "outputs":[
    
   ],
   "metadata":{
    "datalore":{
     "type":"CODE",
     "hide_input_from_viewers":false,
     "hide_output_from_viewers":false
    }
   }
  }
 ],
 "metadata":{
  "datalore":{
   "version":1,
   "computation_mode":"JUPYTER",
   "package_manager":"pip",
   "base_environment":"default",
   "packages":[
    
   ]
  }
 },
 "nbformat":4,
 "nbformat_minor":4
}