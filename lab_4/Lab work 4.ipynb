{
 "cells":[
  {
   "cell_type":"markdown",
   "source":[
    "___\n",
    "\n",
    "<a href='https:\/\/mainacademy.ua\/'> <img src='https:\/\/mainacademy.ua\/wp-content\/uploads\/2019\/03\/logo-main.png' alt = 'Хмм, щось з інтернетом'\/><\/a>\n",
    "___\n",
    "\n",
    "# Module 4: Work with data professionally!"
   ],
   "attachments":{
    
   },
   "metadata":{
    "datalore":{
     "type":"MD",
     "hide_input_from_viewers":false,
     "hide_output_from_viewers":false
    }
   }
  },
  {
   "cell_type":"markdown",
   "source":[
    "## Lab work 4\n"
   ],
   "attachments":{
    
   },
   "metadata":{
    "datalore":{
     "type":"MD",
     "hide_input_from_viewers":false,
     "hide_output_from_viewers":false
    }
   }
  },
  {
   "cell_type":"markdown",
   "source":[
    "#### Мета: \n",
    "\n",
    "* навчитися обробляти дані\n",
    "* \"парсити\" сайти"
   ],
   "attachments":{
    
   },
   "metadata":{
    "datalore":{
     "type":"MD",
     "hide_input_from_viewers":false,
     "hide_output_from_viewers":false
    }
   }
  },
  {
   "cell_type":"markdown",
   "source":[
    "### Завдання 1:"
   ],
   "attachments":{
    
   },
   "metadata":{
    "datalore":{
     "type":"MD",
     "hide_input_from_viewers":false,
     "hide_output_from_viewers":false
    }
   }
  },
  {
   "cell_type":"markdown",
   "source":[
    "#### Ознайомитися із API Національного банку \n",
    "https:\/\/old.bank.gov.ua\/control\/uk\/publish\/article?art_id=38441973&cat_id=38459171#exchange\n"
   ],
   "attachments":{
    
   },
   "metadata":{
    "datalore":{
     "type":"MD",
     "hide_input_from_viewers":false,
     "hide_output_from_viewers":false
    }
   }
  },
  {
   "cell_type":"markdown",
   "source":[
    "1. Підключитися до API."
   ],
   "attachments":{
    
   },
   "metadata":{
    "datalore":{
     "type":"MD",
     "hide_input_from_viewers":false,
     "hide_output_from_viewers":false
    }
   }
  },
  {
   "cell_type":"code",
   "source":[
    "import requests\n",
    "import datetime\n",
    "\n",
    "r=requests.get('https:\/\/bank.gov.ua\/NBUStatService\/v1\/statdirectory\/exchange?date=20220302&json')\n",
    "#db=r.json()\n",
    "\n",
    "\n",
    "\n",
    "db=[]\n",
    "date= datetime.datetime.now()\n",
    "for i in range(365):\n",
    "    params = {\n",
    "        'date': date.strftime('%Y%m%d'),\n",
    "        'json': 'json'\n",
    "        }\n",
    "    r=requests.get('https:\/\/bank.gov.ua\/NBUStatService\/v1\/statdirectory\/exchange', params=params)\n",
    "    if r.status_code==200:\n",
    "        res=r.json()\n",
    "        db.extend(res)\n",
    "    date=date-datetime.timedelta(days=1)\n"
   ],
   "execution_count":51,
   "outputs":[
    
   ],
   "metadata":{
    "datalore":{
     "type":"CODE",
     "hide_input_from_viewers":false,
     "hide_output_from_viewers":false
    }
   }
  },
  {
   "cell_type":"markdown",
   "source":[
    "2. Отримати курс долара за останній рік."
   ],
   "attachments":{
    
   },
   "metadata":{
    "datalore":{
     "type":"MD",
     "hide_input_from_viewers":false,
     "hide_output_from_viewers":false
    }
   }
  },
  {
   "cell_type":"code",
   "source":[
    "year=[]\n",
    "for i in db:\n",
    "    if i['cc']=='USD':\n",
    "        year.append (i['rate'])\n",
    "print(year)\n",
    "temp_db=db\n",
    "for i in temp_db:\n",
    "    i['exchangedate']= i['exchangedate'][3:]"
   ],
   "execution_count":52,
   "outputs":[
    {
     "name":"stdout",
     "text":[
      "[29.2549, 29.2549, 29.2549, 29.2549, 29.2549, 29.2549, 29.2549, 29.2549, 29.2549, 29.2549, 29.2549, 29.2549, 29.2549, 29.2549, 29.2549, 29.2549, 29.2549, 29.2549, 29.2549, 29.2549, 29.2549, 29.2549, 29.2549, 29.2549, 29.2549, 29.2549, 29.2549, 29.2549, 29.2549, 29.2549, 29.2549, 29.2549, 29.2549, 29.2549, 29.2549, 29.2549, 29.2549, 29.2549, 29.2549, 29.2549, 29.2549, 29.2549, 29.2549, 29.2549, 29.2549, 29.2549, 29.2549, 29.2549, 29.2549, 29.2549, 29.2549, 29.2549, 29.2549, 29.2549, 29.2549, 29.2549, 29.2549, 29.2549, 29.2549, 29.2549, 29.2549, 29.2549, 29.2549, 29.2549, 29.2549, 29.2549, 29.2549, 29.2549, 29.2549, 29.2549, 29.2549, 29.2549, 29.2549, 29.2549, 29.2549, 29.2549, 29.2549, 29.2549, 29.2549, 29.2549, 29.2549, 29.2549, 29.2549, 29.2549, 29.2549, 29.2549, 29.2549, 29.2549, 29.2549, 29.2549, 29.2549, 29.2549, 29.2549, 29.2549, 29.2549, 29.2549, 29.2549, 29.2549, 29.2549, 29.2549, 29.2549, 29.2549, 29.2549, 29.2549, 29.2549, 29.2549, 29.2549, 28.9877, 28.4846, 28.3428, 28.3, 28.3, 28.3, 28.0943, 28.2424, 28.5355, 28.0346, 27.8756, 27.8756, 27.8756, 27.9795, 27.9619, 27.9998, 28.1468, 28.2701, 28.2701, 28.2701, 28.3876, 28.318, 28.4555, 28.7839, 28.9879, 28.9879, 28.9879, 28.7984, 28.6658, 28.3749, 28.3181, 28.3236, 28.3236, 28.3236, 28.4038, 28.4101, 28.122, 27.9514, 27.7372, 27.7372, 27.7372, 27.7073, 27.5093, 27.4998, 27.4977, 27.4551, 27.4551, 27.4551, 27.4551, 27.2976, 27.2782, 27.2782, 27.2782, 27.2782, 27.2782, 27.2077, 27.2235, 27.2306, 27.2747, 27.2747, 27.2747, 27.2747, 27.2508, 27.2598, 27.2846, 27.2483, 27.1929, 27.1929, 27.1929, 27.196, 26.9985, 26.8846, 27.0241, 27.1013, 27.1013, 27.1013, 27.2167, 27.3317, 27.3791, 27.2981, 27.2933, 27.2933, 27.2933, 27.2296, 27.2142, 27.1739, 27.1033, 27.0256, 27.0256, 27.0256, 26.9273, 26.8604, 26.6588, 26.5694, 26.4427, 26.4427, 26.4427, 26.5147, 26.4133, 26.3371, 26.1107, 26.1022, 26.1022, 26.1022, 26.0575, 26.0927, 26.0806, 26.102, 26.19, 26.19, 26.19, 26.2431, 26.2904, 26.2933, 26.2767, 26.3265, 26.3265, 26.3265, 26.3712, 26.419, 26.3509, 26.2918, 26.2918, 26.2918, 26.2016, 26.2078, 26.272, 26.3356, 26.3419, 26.349, 26.349, 26.349, 26.349, 26.349, 26.36, 26.3515, 26.3314, 26.3314, 26.3314, 26.3503, 26.4244, 26.5722, 26.61, 26.6175, 26.6175, 26.6175, 26.576, 26.5698, 26.6556, 26.6422, 26.5272, 26.5272, 26.5272, 26.6714, 26.7081, 26.7072, 26.7028, 26.6672, 26.6672, 26.6672, 26.645, 26.6362, 26.692, 26.6782, 26.7264, 26.7264, 26.7264, 26.7452, 26.7317, 26.8102, 26.9298, 27.0247, 27.0247, 27.0247, 27.0029, 26.8928, 26.8601, 26.929, 26.929, 26.929, 26.7744, 26.7074, 26.6718, 26.6504, 26.6504, 26.6504, 26.6504, 26.6504, 26.6455, 26.6752, 26.6457, 26.6931, 26.7686, 26.7686, 26.7686, 26.8042, 26.7557, 26.8011, 26.8346, 26.9395, 26.9395, 26.9395, 26.9094, 26.8411, 26.8444, 26.8168, 26.8867, 26.8867, 26.8867, 26.8628, 26.906, 26.9805, 27.048, 27.1915, 27.1915, 27.1915, 27.2405, 27.2205, 27.2132, 27.2301, 27.2905, 27.2905, 27.2905, 27.3047, 27.3216, 27.2904, 27.3234, 27.2862, 27.2862, 27.2862, 27.2993, 27.2497, 27.2904, 27.4121, 27.3841, 27.3841, 27.3841, 27.2275, 27.1763, 27.3964, 27.4589, 27.4589, 27.4589, 27.4589, 27.2737, 27.305, 27.1935, 27.1712, 27.1712, 27.1712, 27.1712, 27.0275, 26.9258, 26.9957, 27.0404, 27.1068, 27.1068, 27.1068]\n"
     ],
     "output_type":"stream"
    }
   ],
   "metadata":{
    "datalore":{
     "type":"CODE",
     "hide_input_from_viewers":false,
     "hide_output_from_viewers":false
    }
   }
  },
  {
   "cell_type":"markdown",
   "source":[
    "3. Вивести середнє значення та відхилення курсу за кожний місяць."
   ],
   "attachments":{
    
   },
   "metadata":{
    "datalore":{
     "type":"MD",
     "hide_input_from_viewers":false,
     "hide_output_from_viewers":false
    }
   }
  },
  {
   "cell_type":"code",
   "source":[
    "import math\n",
    "def sr_kv_vidh(a):\n",
    "    \n",
    "    sum_of_kv=0\n",
    "    sr_arif=sr_znach(a)\n",
    "    temp_array=[]\n",
    "    for i in range(len(a)):\n",
    "        temp_array.append(a[i]-sr_arif)\n",
    "    for i in range(len(temp_array)):\n",
    "        temp_array[i]=temp_array[i]*temp_array[i]\n",
    "    for i in range(len(temp_array)):\n",
    "        sum_of_kv+=temp_array[i]\n",
    "    k=sum_of_kv\/(len(a)-1)\n",
    "    sr_otkl=math.sqrt(k)\n",
    "    \n",
    "    return round(sr_otkl,5)\n",
    "def sr_znach(a):\n",
    "    sum=0\n",
    "    \n",
    "    for i in range(len(a)):\n",
    "        sum+=float(a[i])\n",
    "    sr_arif= round(sum\/len(a),5)\n",
    "    return sr_arif\n",
    "\n",
    "dict={}\n",
    "temp=[]\n",
    "ii=temp_db[0]['exchangedate']\n",
    " \n",
    "\n",
    "for row in db:\n",
    "    if row['exchangedate']==ii:\n",
    "        if row['cc']=='USD':\n",
    "            temp.append(row['rate'])\n",
    "\n",
    "    else:\n",
    "        \n",
    "        dict[ii]=temp\n",
    "        ii=row['exchangedate']\n",
    "        temp=[]\n",
    "        \n",
    "result=[] \n",
    "temp_result=[]\n",
    "for row in dict:\n",
    "    sr_arif=sr_znach(dict.get(row))\n",
    "    print('Месяц-',row)\n",
    "    temp_result.append('Месяц-'+row)\n",
    "    print('Середнє значення=',sr_arif)\n",
    "    temp_result.append('Середнє значення='+str(sr_arif))\n",
    "    sr_otkl=sr_kv_vidh(dict.get(row)) \n",
    "    print(\"Відхилення курсу\",sr_otkl)\n",
    "    temp_result.append(\"Відхилення курсу=\"+str(sr_otkl))\n",
    "    print('\\n')\n",
    "    result.append(temp_result)\n",
    "    temp_result=[]\n",
    "\n",
    "result"
   ],
   "execution_count":104,
   "outputs":[
    {
     "name":"stdout",
     "text":[
      "Месяц- 06.2022\n",
      "Середнє значення= 29.2549\n",
      "Відхилення курсу 0.0\n",
      "\n",
      "\n",
      "Месяц- 05.2022\n",
      "Середнє значення= 29.2549\n",
      "Відхилення курсу 0.0\n",
      "\n",
      "\n",
      "Месяц- 04.2022\n",
      "Середнє значення= 29.2549\n",
      "Відхилення курсу 0.0\n",
      "\n",
      "\n",
      "Месяц- 03.2022\n",
      "Середнє значення= 29.2549\n",
      "Відхилення курсу 0.0\n",
      "\n",
      "\n",
      "Месяц- 02.2022\n",
      "Середнє значення= 28.41366\n",
      "Відхилення курсу 0.46283\n",
      "\n",
      "\n",
      "Месяц- 01.2022\n",
      "Середнє значення= 27.98127\n",
      "Відхилення курсу 0.58645\n",
      "\n",
      "\n",
      "Месяц- 12.2021\n",
      "Середнє значення= 27.21346\n",
      "Відхилення курсу 0.10439\n",
      "\n",
      "\n",
      "Месяц- 11.2021\n",
      "Середнє значення= 26.44622\n",
      "Відхилення курсу 0.36007\n",
      "\n",
      "\n",
      "Месяц- 10.2021\n",
      "Середнє значення= 26.37468\n",
      "Відхилення курсу 0.1133\n",
      "\n",
      "\n",
      "Месяц- 09.2021\n",
      "Середнє значення= 26.72779\n",
      "Відхилення курсу 0.14753\n",
      "\n",
      "\n",
      "Месяц- 08.2021\n",
      "Середнє значення= 26.78485\n",
      "Відхилення курсу 0.10749\n",
      "\n",
      "\n",
      "Месяц- 07.2021\n",
      "Середнє значення= 27.21455\n",
      "Відхилення курсу 0.15583\n",
      "\n",
      "\n"
     ],
     "output_type":"stream"
    },
    {
     "data":{
      "text\/plain":[
       "[['Месяц-06.2022', 'Середнє значення=29.2549', 'Відхилення курсу=0.0'],\n",
       " ['Месяц-05.2022', 'Середнє значення=29.2549', 'Відхилення курсу=0.0'],\n",
       " ['Месяц-04.2022', 'Середнє значення=29.2549', 'Відхилення курсу=0.0'],\n",
       " ['Месяц-03.2022', 'Середнє значення=29.2549', 'Відхилення курсу=0.0'],\n",
       " ['Месяц-02.2022', 'Середнє значення=28.41366', 'Відхилення курсу=0.46283'],\n",
       " ['Месяц-01.2022', 'Середнє значення=27.98127', 'Відхилення курсу=0.58645'],\n",
       " ['Месяц-12.2021', 'Середнє значення=27.21346', 'Відхилення курсу=0.10439'],\n",
       " ['Месяц-11.2021', 'Середнє значення=26.44622', 'Відхилення курсу=0.36007'],\n",
       " ['Месяц-10.2021', 'Середнє значення=26.37468', 'Відхилення курсу=0.1133'],\n",
       " ['Месяц-09.2021', 'Середнє значення=26.72779', 'Відхилення курсу=0.14753'],\n",
       " ['Месяц-08.2021', 'Середнє значення=26.78485', 'Відхилення курсу=0.10749'],\n",
       " ['Месяц-07.2021', 'Середнє значення=27.21455', 'Відхилення курсу=0.15583']]"
      ]
     },
     "metadata":{
      
     },
     "output_type":"display_data"
    }
   ],
   "metadata":{
    "datalore":{
     "type":"CODE",
     "hide_input_from_viewers":false,
     "hide_output_from_viewers":false
    }
   }
  },
  {
   "cell_type":"markdown",
   "source":[
    "4. Дану інформацію записати у файл за допомогою pickle."
   ],
   "attachments":{
    
   },
   "metadata":{
    "datalore":{
     "type":"MD",
     "hide_input_from_viewers":false,
     "hide_output_from_viewers":false
    }
   }
  },
  {
   "cell_type":"code",
   "source":[
    "import pickle\n",
    "with open('data.pickle', 'wb') as f:\n",
    "    pickle.dump(result, f)"
   ],
   "execution_count":106,
   "outputs":[
    
   ],
   "metadata":{
    "datalore":{
     "type":"CODE",
     "hide_input_from_viewers":false,
     "hide_output_from_viewers":false
    }
   }
  },
  {
   "cell_type":"code",
   "source":[
    "with open('data.pickle', 'rb') as file:\n",
    "    obj=pickle.load(file)\n",
    "obj"
   ],
   "execution_count":107,
   "outputs":[
    {
     "data":{
      "text\/plain":[
       "[['Месяц-06.2022', 'Середнє значення=29.2549', 'Відхилення курсу=0.0'],\n",
       " ['Месяц-05.2022', 'Середнє значення=29.2549', 'Відхилення курсу=0.0'],\n",
       " ['Месяц-04.2022', 'Середнє значення=29.2549', 'Відхилення курсу=0.0'],\n",
       " ['Месяц-03.2022', 'Середнє значення=29.2549', 'Відхилення курсу=0.0'],\n",
       " ['Месяц-02.2022', 'Середнє значення=28.41366', 'Відхилення курсу=0.46283'],\n",
       " ['Месяц-01.2022', 'Середнє значення=27.98127', 'Відхилення курсу=0.58645'],\n",
       " ['Месяц-12.2021', 'Середнє значення=27.21346', 'Відхилення курсу=0.10439'],\n",
       " ['Месяц-11.2021', 'Середнє значення=26.44622', 'Відхилення курсу=0.36007'],\n",
       " ['Месяц-10.2021', 'Середнє значення=26.37468', 'Відхилення курсу=0.1133'],\n",
       " ['Месяц-09.2021', 'Середнє значення=26.72779', 'Відхилення курсу=0.14753'],\n",
       " ['Месяц-08.2021', 'Середнє значення=26.78485', 'Відхилення курсу=0.10749'],\n",
       " ['Месяц-07.2021', 'Середнє значення=27.21455', 'Відхилення курсу=0.15583']]"
      ]
     },
     "metadata":{
      
     },
     "output_type":"display_data"
    }
   ],
   "metadata":{
    "datalore":{
     "type":"CODE",
     "hide_input_from_viewers":false,
     "hide_output_from_viewers":false
    }
   }
  },
  {
   "cell_type":"markdown",
   "source":[
    "### Завдання 2:"
   ],
   "attachments":{
    
   },
   "metadata":{
    "datalore":{
     "type":"MD",
     "hide_input_from_viewers":false,
     "hide_output_from_viewers":false
    }
   }
  },
  {
   "cell_type":"markdown",
   "source":[
    "Потрібно проаналізувати всі товари на сайті: \n",
    "https:\/\/smallpacking.agrosem.ua\/shop\/"
   ],
   "attachments":{
    
   },
   "metadata":{
    "datalore":{
     "type":"MD",
     "hide_input_from_viewers":false,
     "hide_output_from_viewers":false
    }
   }
  },
  {
   "cell_type":"markdown",
   "source":[
    "Створіть базу даних, що містить таблицю із такими стовбцями: \n",
    "    - артикул товару\n",
    "    - найменування\n",
    "    - ціна \n",
    "    - вага"
   ],
   "attachments":{
    
   },
   "metadata":{
    "datalore":{
     "type":"MD",
     "hide_input_from_viewers":false,
     "hide_output_from_viewers":false
    }
   }
  },
  {
   "cell_type":"code",
   "source":[
    "import requests\n",
    "from bs4 import BeautifulSoup\n",
    "headers={\n",
    "'Accept': 'text\/html,application\/xhtml+xml,application\/xml;q=0.9,image\/avif,image\/webp,image\/apng,*\/*;q=0.8,application\/signed-exchange;v=b3;q=0.9',\n",
    "'Accept-Encoding': 'gzip, deflate, br',\n",
    "'Accept-Language': 'ru-RU,ru;q=0.9,en-US;q=0.8,en;q=0.7,uk;q=0.6',\n",
    "'Cache-Control': 'max-age=0',\n",
    "'Connection': 'keep-alive',\n",
    "'Cookie': 'pll_language=uk; _gcl_au=1.1.20373046.1653583335; _ga=GA1.2.568585748.1653583335; tk_or=%22%22; tk_lr=%22%22; _gid=GA1.2.745069734.1655499241; tk_r3d=%22%22',\n",
    "'Host': 'smallpacking.agrosem.ua',\n",
    "'Referer': \"https:\/\/smallpacking.agrosem.ua\/shop\/page\/2\/\",\n",
    "'sec-ch-ua': '\" Not A;Brand\";v=\"99\", \"Chromium\";v=\"102\", \"Google Chrome\";v=\"102\"',\n",
    "'sec-ch-ua-mobile': '?0',\n",
    "'sec-ch-ua-platform': \"Windows\",\n",
    "'Sec-Fetch-Dest': 'document',\n",
    "'Sec-Fetch-Mode': 'navigate',\n",
    "'Sec-Fetch-Site': 'same-origin',\n",
    "'Sec-Fetch-User': '1',\n",
    "'Upgrade-Insecure-Requests': '1',\n",
    "'User-Agent': 'Mozilla\/5.0 (Windows NT 6.3; Win64; x64) AppleWebKit\/537.36 (KHTML, like Gecko) Chrome\/102.0.0.0 Safari\/537.36'\n",
    "\n",
    "}\n",
    "r=requests.get('https:\/\/smallpacking.agrosem.ua\/shop\/',headers=headers)\n",
    "soup=BeautifulSoup(r.text,'lxml')\n",
    "kolvo=int(soup.findAll('a',class_='page-numbers')[-2].text)\n",
    "url=[]\n",
    "for k in range(1,kolvo+1):\n",
    "    r=requests.get(f'https:\/\/smallpacking.agrosem.ua\/shop\/page\/{k}\/',headers=headers)\n",
    "    soup=BeautifulSoup(r.text,'lxml')\n",
    "    for i in soup.findAll('div',class_='product-from-category-container'):\n",
    "        url.append(i.find('a',class_='more-detail').get('href'))\n",
    "\n",
    "url\n",
    "\n",
    "\n",
    "\n",
    "\n",
    "\n",
    "\n"
   ],
   "execution_count":30,
   "outputs":[
    {
     "data":{
      "text\/plain":[
       "['https:\/\/smallpacking.agrosem.ua\/product\/8h288kldm-vysokooleyinovyj\/',\n",
       " 'https:\/\/smallpacking.agrosem.ua\/product\/8h477kl-vysokooleyinovyj\/',\n",
       " 'https:\/\/smallpacking.agrosem.ua\/product\/amelior-fao-240\/',\n",
       " 'https:\/\/smallpacking.agrosem.ua\/product\/ferticare-hydro-6-14-30-micro\/',\n",
       " 'https:\/\/smallpacking.agrosem.ua\/product\/ferticare-kombi-14-11-25-micro\/',\n",
       " 'https:\/\/smallpacking.agrosem.ua\/product\/magplon-k-nitrat-kaliyu\/',\n",
       " 'https:\/\/smallpacking.agrosem.ua\/product\/mas-10-a-fao-180\/',\n",
       " 'https:\/\/smallpacking.agrosem.ua\/product\/mas-15-t-fao-220\/',\n",
       " 'https:\/\/smallpacking.agrosem.ua\/product\/mas-18-l-fao-210\/',\n",
       " 'https:\/\/smallpacking.agrosem.ua\/product\/mas-20-a-fao-230-eksklyuzyvnyj-gibryd-tov-agrosem\/',\n",
       " 'https:\/\/smallpacking.agrosem.ua\/product\/mas-20-f-fao-230\/',\n",
       " 'https:\/\/smallpacking.agrosem.ua\/product\/mas-23-k-fao-220\/',\n",
       " 'https:\/\/smallpacking.agrosem.ua\/product\/mas-24-s-fao-260\/',\n",
       " 'https:\/\/smallpacking.agrosem.ua\/product\/mas-25-f-fao-250\/',\n",
       " 'https:\/\/smallpacking.agrosem.ua\/product\/mas-28-a-fao-270\/',\n",
       " 'https:\/\/smallpacking.agrosem.ua\/product\/mas-30-m-fao-310\/',\n",
       " 'https:\/\/smallpacking.agrosem.ua\/product\/mas-30-k-fao-280\/',\n",
       " 'https:\/\/smallpacking.agrosem.ua\/product\/mas-33-a-fao-320\/',\n",
       " 'https:\/\/smallpacking.agrosem.ua\/product\/mas-35-k-fao-360\/',\n",
       " 'https:\/\/smallpacking.agrosem.ua\/product\/mas-36-a-fao-300\/',\n",
       " 'https:\/\/smallpacking.agrosem.ua\/product\/mas-37-v-fao-340\/',\n",
       " 'https:\/\/smallpacking.agrosem.ua\/product\/mas-39-t-fao-350\/',\n",
       " 'https:\/\/smallpacking.agrosem.ua\/product\/mas-40-f-fao-390\/',\n",
       " 'https:\/\/smallpacking.agrosem.ua\/product\/mas-44-a-fao-380\/',\n",
       " 'https:\/\/smallpacking.agrosem.ua\/product\/mas-45-m-fao-440\/',\n",
       " 'https:\/\/smallpacking.agrosem.ua\/product\/mas-47-r-fao-400\/',\n",
       " 'https:\/\/smallpacking.agrosem.ua\/product\/mas-80-ir\/',\n",
       " 'https:\/\/smallpacking.agrosem.ua\/product\/mas-81-c\/',\n",
       " 'https:\/\/smallpacking.agrosem.ua\/product\/mas-81-k\/',\n",
       " 'https:\/\/smallpacking.agrosem.ua\/product\/mas-82-a\/',\n",
       " 'https:\/\/smallpacking.agrosem.ua\/product\/mas-83-ol\/',\n",
       " 'https:\/\/smallpacking.agrosem.ua\/product\/mas-83-r\/',\n",
       " 'https:\/\/smallpacking.agrosem.ua\/product\/mas-85-su\/',\n",
       " 'https:\/\/smallpacking.agrosem.ua\/product\/mas-86-cp\/',\n",
       " 'https:\/\/smallpacking.agrosem.ua\/product\/mas-86-ol\/',\n",
       " 'https:\/\/smallpacking.agrosem.ua\/product\/mas-87-a\/',\n",
       " 'https:\/\/smallpacking.agrosem.ua\/product\/mas-87-ir\/',\n",
       " 'https:\/\/smallpacking.agrosem.ua\/product\/mas-89-ir\/',\n",
       " 'https:\/\/smallpacking.agrosem.ua\/product\/mas-89-m\/',\n",
       " 'https:\/\/smallpacking.agrosem.ua\/product\/mas-90-f\/',\n",
       " 'https:\/\/smallpacking.agrosem.ua\/product\/mas-91-g\/',\n",
       " 'https:\/\/smallpacking.agrosem.ua\/product\/mas-92-cp\/',\n",
       " 'https:\/\/smallpacking.agrosem.ua\/product\/mas-93-cp\/',\n",
       " 'https:\/\/smallpacking.agrosem.ua\/product\/mas-96-p\/',\n",
       " 'https:\/\/smallpacking.agrosem.ua\/product\/mas-97-a\/',\n",
       " 'https:\/\/smallpacking.agrosem.ua\/product\/pulan-34-4\/',\n",
       " 'https:\/\/smallpacking.agrosem.ua\/product\/saletrosan26\/',\n",
       " 'https:\/\/smallpacking.agrosem.ua\/product\/saletrosan30\/',\n",
       " 'https:\/\/smallpacking.agrosem.ua\/product\/saletrzak-27-macro\/',\n",
       " 'https:\/\/smallpacking.agrosem.ua\/product\/siarczan-as-21-macro\/',\n",
       " 'https:\/\/smallpacking.agrosem.ua\/product\/mas-28-a-fao-270-2\/',\n",
       " 'https:\/\/smallpacking.agrosem.ua\/product\/yara-liva-kalczinit\/',\n",
       " 'https:\/\/smallpacking.agrosem.ua\/product\/yara-liva-nitrabor\/',\n",
       " 'https:\/\/smallpacking.agrosem.ua\/product\/yarabela-sulfan\/',\n",
       " 'https:\/\/smallpacking.agrosem.ua\/product\/yarairix\/',\n",
       " 'https:\/\/smallpacking.agrosem.ua\/product\/yaramila-complex-12-11-18\/',\n",
       " 'https:\/\/smallpacking.agrosem.ua\/product\/yaramila-cropcare-11-11-21\/',\n",
       " 'https:\/\/smallpacking.agrosem.ua\/product\/yaramila-np-20-20-90so3\/',\n",
       " 'https:\/\/smallpacking.agrosem.ua\/product\/yaramila-npk-12-24-12\/',\n",
       " 'https:\/\/smallpacking.agrosem.ua\/product\/yaramila-npk-16-16-16\/',\n",
       " 'https:\/\/smallpacking.agrosem.ua\/product\/yaramila-npk-16-27-7\/',\n",
       " 'https:\/\/smallpacking.agrosem.ua\/product\/yaramila-npk-18-11-13\/',\n",
       " 'https:\/\/smallpacking.agrosem.ua\/product\/yaramila-npk-7-20-28\/',\n",
       " 'https:\/\/smallpacking.agrosem.ua\/product\/yaramila-npk-8-24-24\/',\n",
       " 'https:\/\/smallpacking.agrosem.ua\/product\/yaramila-npk-9-12-25-2mgo-65so3-micro\/',\n",
       " 'https:\/\/smallpacking.agrosem.ua\/product\/yaratera-sop-sulfat-kaliyu\/',\n",
       " 'https:\/\/smallpacking.agrosem.ua\/product\/yaravita-rexolin-abc-kompleks-mikroelementiv\/',\n",
       " 'https:\/\/smallpacking.agrosem.ua\/product\/yaravita-rexolin-d12-helat-zaliza\/',\n",
       " 'https:\/\/smallpacking.agrosem.ua\/product\/yaravita-bortrak\/',\n",
       " 'https:\/\/smallpacking.agrosem.ua\/product\/yaravita-brasitrel-pro\/',\n",
       " 'https:\/\/smallpacking.agrosem.ua\/product\/yaravita-gramitrel\/',\n",
       " 'https:\/\/smallpacking.agrosem.ua\/product\/yaravita-kombifos\/',\n",
       " 'https:\/\/smallpacking.agrosem.ua\/product\/yaravita-mankoczin\/',\n",
       " 'https:\/\/smallpacking.agrosem.ua\/product\/yaravita-mantrak-pro\/',\n",
       " 'https:\/\/smallpacking.agrosem.ua\/product\/yaravita-meyiz-bust\/',\n",
       " 'https:\/\/smallpacking.agrosem.ua\/product\/yaravita-molitrak\/',\n",
       " 'https:\/\/smallpacking.agrosem.ua\/product\/yaravita-teprosin-np-zn\/',\n",
       " 'https:\/\/smallpacking.agrosem.ua\/product\/yaravita-tiotrak\/',\n",
       " 'https:\/\/smallpacking.agrosem.ua\/product\/yaravita-fosamko-bio\/',\n",
       " 'https:\/\/smallpacking.agrosem.ua\/product\/yaravita-czintrak\/',\n",
       " 'https:\/\/smallpacking.agrosem.ua\/product\/alvaro-kvs-nasinnya-ozimogo-ripaku-2019-r-vrozhayu\/',\n",
       " 'https:\/\/smallpacking.agrosem.ua\/product\/alvaro-kvs-nasinnya-ozimogo-ripaku-2020-r-vrozhayu\/',\n",
       " 'https:\/\/smallpacking.agrosem.ua\/product\/amaros-fao-230\/',\n",
       " 'https:\/\/smallpacking.agrosem.ua\/product\/bogatyr-fao-290\/',\n",
       " 'https:\/\/smallpacking.agrosem.ua\/product\/garmonium-fao-380\/',\n",
       " 'https:\/\/smallpacking.agrosem.ua\/product\/gibrikok-kws-2019-r-vrozhayu\/',\n",
       " 'https:\/\/smallpacking.agrosem.ua\/product\/gibrikok-kws-2020-r-vrozhayu\/',\n",
       " 'https:\/\/smallpacking.agrosem.ua\/product\/da-sonka-fao-350\/',\n",
       " 'https:\/\/smallpacking.agrosem.ua\/product\/dobryvo-dlya-azalij-ta-rododendroniv\/',\n",
       " 'https:\/\/smallpacking.agrosem.ua\/product\/dobryvo-dlya-vynogradu\/',\n",
       " 'https:\/\/smallpacking.agrosem.ua\/product\/dobryvo-dlya-dekoratyvno-lystyanyh-kimnatnyh-roslyn\/',\n",
       " 'https:\/\/smallpacking.agrosem.ua\/product\/dobryvo-dlya-kvituchyh-kimnatnyh-roslyn\/',\n",
       " 'https:\/\/smallpacking.agrosem.ua\/product\/dobryvo-dlya-lohyny-ta-chornyczi\/',\n",
       " 'https:\/\/smallpacking.agrosem.ua\/product\/dobryvo-dlya-magnolij-gortenzij\/',\n",
       " 'https:\/\/smallpacking.agrosem.ua\/product\/dobryvo-dlya-ovochevyh-kultur-ta-zeleni\/',\n",
       " 'https:\/\/smallpacking.agrosem.ua\/product\/dobryvo-dlya-orhidej\/',\n",
       " 'https:\/\/smallpacking.agrosem.ua\/product\/dobryvo-dlya-petunij-ta-surfinij\/',\n",
       " 'https:\/\/smallpacking.agrosem.ua\/product\/dobryvo-dlya-plodovo-yagidnyh-kultur\/',\n",
       " 'https:\/\/smallpacking.agrosem.ua\/product\/dobryvo-dlya-roslyn-na-osnovi-vytyazhky-morskyh-vodorostej-ta-makro-mikroelementiv-yaravita\/',\n",
       " 'https:\/\/smallpacking.agrosem.ua\/product\/kopiyadobryvo-dlya-roslyn-na-osnovi-vytyazhky-morskyh-vodorostej-ta-makro-mikroelementiv-yaravita-1-l\/',\n",
       " 'https:\/\/smallpacking.agrosem.ua\/product\/dobryvo-dlya-sadu-ta-gorodu\/',\n",
       " 'https:\/\/smallpacking.agrosem.ua\/product\/dobryvo-dlya-samshytu-ta-vichnozelenyh-chagarnykiv\/',\n",
       " 'https:\/\/smallpacking.agrosem.ua\/product\/dobryvo-dlya-troyand-ta-kvituchyh-roslyn\/',\n",
       " 'https:\/\/smallpacking.agrosem.ua\/product\/dobryvo-dlya-hvojnyh-roslyn\/',\n",
       " 'https:\/\/smallpacking.agrosem.ua\/product\/ds0336-fao-310\/',\n",
       " 'https:\/\/smallpacking.agrosem.ua\/product\/ds0493b-fao-250\/',\n",
       " 'https:\/\/smallpacking.agrosem.ua\/product\/ds0918b-fao-270\/',\n",
       " 'https:\/\/smallpacking.agrosem.ua\/product\/ds1202b-fao-260\/',\n",
       " 'https:\/\/smallpacking.agrosem.ua\/product\/ds1304s-fao-350\/',\n",
       " 'https:\/\/smallpacking.agrosem.ua\/product\/dsl402\/',\n",
       " 'https:\/\/smallpacking.agrosem.ua\/product\/dsh403-vysokooleyinovyj\/',\n",
       " 'https:\/\/smallpacking.agrosem.ua\/product\/es-andromeda\/',\n",
       " 'https:\/\/smallpacking.agrosem.ua\/product\/es-argentik\/',\n",
       " 'https:\/\/smallpacking.agrosem.ua\/product\/es-arkadiya-su\/',\n",
       " 'https:\/\/smallpacking.agrosem.ua\/product\/es-aromatik-su\/',\n",
       " 'https:\/\/smallpacking.agrosem.ua\/product\/es-asteroid-fao-290\/',\n",
       " 'https:\/\/smallpacking.agrosem.ua\/product\/es-bella\/',\n",
       " 'https:\/\/smallpacking.agrosem.ua\/product\/es-veronika\/',\n",
       " 'https:\/\/smallpacking.agrosem.ua\/product\/es-genezis\/',\n",
       " 'https:\/\/smallpacking.agrosem.ua\/product\/es-generalis-sl\/',\n",
       " 'https:\/\/smallpacking.agrosem.ua\/product\/es-grafik-sl\/',\n",
       " 'https:\/\/smallpacking.agrosem.ua\/product\/es-izida\/',\n",
       " 'https:\/\/smallpacking.agrosem.ua\/product\/es-inventiv-fao-300\/',\n",
       " 'https:\/\/smallpacking.agrosem.ua\/product\/es-konkord-fao-250\/',\n",
       " 'https:\/\/smallpacking.agrosem.ua\/product\/es-kreatyv-fao-300\/',\n",
       " 'https:\/\/smallpacking.agrosem.ua\/product\/es-krossman-fao-240\/',\n",
       " 'https:\/\/smallpacking.agrosem.ua\/product\/es-mejflaver-fao-330\/',\n",
       " 'https:\/\/smallpacking.agrosem.ua\/product\/es-metod-fao-380\/',\n",
       " 'https:\/\/smallpacking.agrosem.ua\/product\/es-milord-fao-380\/',\n",
       " 'https:\/\/smallpacking.agrosem.ua\/product\/es-moskito-fao-350\/',\n",
       " 'https:\/\/smallpacking.agrosem.ua\/product\/es-niagara\/',\n",
       " 'https:\/\/smallpacking.agrosem.ua\/product\/es-novamis-sl\/',\n",
       " 'https:\/\/smallpacking.agrosem.ua\/product\/es-rozaliya\/',\n",
       " 'https:\/\/smallpacking.agrosem.ua\/product\/es-romantyk\/',\n",
       " 'https:\/\/smallpacking.agrosem.ua\/product\/es-savana\/',\n",
       " 'https:\/\/smallpacking.agrosem.ua\/product\/es-sensor-fao-370\/',\n",
       " 'https:\/\/smallpacking.agrosem.ua\/product\/es-terramis-es\/',\n",
       " 'https:\/\/smallpacking.agrosem.ua\/product\/es-faradej-fao-350\/',\n",
       " 'https:\/\/smallpacking.agrosem.ua\/product\/es-heminguej-fao-280\/',\n",
       " 'https:\/\/smallpacking.agrosem.ua\/product\/es-yanis\/',\n",
       " 'https:\/\/smallpacking.agrosem.ua\/product\/eterno-kvs-nasinnya-ozimogo-zhita-kinto-plyus-gaucho-plyus-1-mn\/',\n",
       " 'https:\/\/smallpacking.agrosem.ua\/product\/eterno-kvs-nasinnya-ozimogo-zhita-kinto-plyus-gaucho-plyus-25-mn\/',\n",
       " 'https:\/\/smallpacking.agrosem.ua\/product\/eterno-kvs-nasinnya-ozimogo-zhita\/',\n",
       " 'https:\/\/smallpacking.agrosem.ua\/product\/eterno-kvs-nasinnya-ozimogo-zhita-2\/',\n",
       " 'https:\/\/smallpacking.agrosem.ua\/product\/krista-mag-nitrat-magniyu\/',\n",
       " 'https:\/\/smallpacking.agrosem.ua\/product\/krista-k-nitrat-kaliyu\/',\n",
       " 'https:\/\/smallpacking.agrosem.ua\/product\/krista-mar-monoamonij-fosfat\/',\n",
       " 'https:\/\/smallpacking.agrosem.ua\/product\/krista-mkr-monokalij-fosfat\/',\n",
       " 'https:\/\/smallpacking.agrosem.ua\/product\/kavaler-fao-250-uniquedent\/',\n",
       " 'https:\/\/smallpacking.agrosem.ua\/product\/kanjons-fao-230-uniquedent\/',\n",
       " 'https:\/\/smallpacking.agrosem.ua\/product\/karifols-fao-380\/',\n",
       " 'https:\/\/smallpacking.agrosem.ua\/product\/karpatis-fao-340\/',\n",
       " 'https:\/\/smallpacking.agrosem.ua\/product\/kvs-2323-fao-260-uniquedent\/',\n",
       " 'https:\/\/smallpacking.agrosem.ua\/product\/kvs-2370-fao-280-uniquedent\/',\n",
       " 'https:\/\/smallpacking.agrosem.ua\/product\/kvs-381-fao-350\/',\n",
       " 'https:\/\/smallpacking.agrosem.ua\/product\/kvs-4484-fao-370\/',\n",
       " 'https:\/\/smallpacking.agrosem.ua\/product\/kvs-aser-kl\/',\n",
       " 'https:\/\/smallpacking.agrosem.ua\/product\/kvs-bono-nasinnya-ozimogo-zhita\/',\n",
       " 'https:\/\/smallpacking.agrosem.ua\/product\/kvs-dragon\/',\n",
       " 'https:\/\/smallpacking.agrosem.ua\/product\/kvs-kashemir-fao-380\/',\n",
       " 'https:\/\/smallpacking.agrosem.ua\/product\/kvs-kumpan-fao-290-uniquedent\/',\n",
       " 'https:\/\/smallpacking.agrosem.ua\/product\/kvs-magnifiko-nasinnya-ozimogo-zhita-na-silos\/',\n",
       " 'https:\/\/smallpacking.agrosem.ua\/product\/kvs-magnifiko-nasinnya-ozimogo-zhita-na-silos-2\/',\n",
       " 'https:\/\/smallpacking.agrosem.ua\/product\/kvs-propauer-nasinnya-ozimogo-zhita\/',\n",
       " 'https:\/\/smallpacking.agrosem.ua\/product\/kvs-tajo-nasinnya-ozimogo-zhita\/',\n",
       " 'https:\/\/smallpacking.agrosem.ua\/product\/kvs-ferri-ozimij-ripak-2020-r-vrozhayu\/',\n",
       " 'https:\/\/smallpacking.agrosem.ua\/product\/keltikus-fao-270-uniquedent\/',\n",
       " 'https:\/\/smallpacking.agrosem.ua\/product\/kerberos-fao-310\/',\n",
       " 'https:\/\/smallpacking.agrosem.ua\/product\/krabas-fao-300\/',\n",
       " 'https:\/\/smallpacking.agrosem.ua\/product\/mark-kvs-2019-r-vrozhayu\/',\n",
       " 'https:\/\/smallpacking.agrosem.ua\/product\/mark-kvs-2020-r-vrozhayu\/',\n",
       " 'https:\/\/smallpacking.agrosem.ua\/product\/mt-matado-fao-380\/',\n",
       " 'https:\/\/smallpacking.agrosem.ua\/product\/ozimij-ripak-faktor-kvs-2019-r-vrozhayu-eksklyuziv-agrosem\/',\n",
       " 'https:\/\/smallpacking.agrosem.ua\/product\/ozime-zhito-faktor-kvs-eksklyuziv-agrosem\/',\n",
       " 'https:\/\/smallpacking.agrosem.ua\/product\/p63le10\/',\n",
       " 'https:\/\/smallpacking.agrosem.ua\/product\/p63ll124\/',\n",
       " 'https:\/\/smallpacking.agrosem.ua\/product\/p64ge133-vysokooleyinovyj\/',\n",
       " 'https:\/\/smallpacking.agrosem.ua\/product\/p64le99\/',\n",
       " 'https:\/\/smallpacking.agrosem.ua\/product\/p64lcz108\/',\n",
       " 'https:\/\/smallpacking.agrosem.ua\/product\/p8025-fao-230\/',\n",
       " 'https:\/\/smallpacking.agrosem.ua\/product\/p8409-fao-260\/',\n",
       " 'https:\/\/smallpacking.agrosem.ua\/product\/p8723-fao-280\/',\n",
       " 'https:\/\/smallpacking.agrosem.ua\/product\/p9025-fao-330\/',\n",
       " 'https:\/\/smallpacking.agrosem.ua\/product\/p9486-fao-340\/',\n",
       " 'https:\/\/smallpacking.agrosem.ua\/product\/px113-ozimij-ripak\/',\n",
       " 'https:\/\/smallpacking.agrosem.ua\/product\/px128-ozimij-ripak\/',\n",
       " 'https:\/\/smallpacking.agrosem.ua\/product\/pr44d06-ozimij-ripak\/',\n",
       " 'https:\/\/smallpacking.agrosem.ua\/product\/pr46v21-ozimij-ripak\/',\n",
       " 'https:\/\/smallpacking.agrosem.ua\/product\/pt200kl-ozimij-ripak\/',\n",
       " 'https:\/\/smallpacking.agrosem.ua\/product\/pt234\/',\n",
       " 'https:\/\/smallpacking.agrosem.ua\/product\/pt248\/',\n",
       " 'https:\/\/smallpacking.agrosem.ua\/product\/pt264-ozimij-ripak\/',\n",
       " 'https:\/\/smallpacking.agrosem.ua\/product\/pt269-ozimij-ripak\/',\n",
       " 'https:\/\/smallpacking.agrosem.ua\/product\/pt271-ozimij-ripak\/',\n",
       " 'https:\/\/smallpacking.agrosem.ua\/product\/pt275-ozimij-ripak\/',\n",
       " 'https:\/\/smallpacking.agrosem.ua\/product\/pt279kl-ozimij-ripak\/',\n",
       " 'https:\/\/smallpacking.agrosem.ua\/product\/ph125kl-ozimij-ripak\/',\n",
       " 'https:\/\/smallpacking.agrosem.ua\/product\/ph131-ozimij-ripak\/',\n",
       " 'https:\/\/smallpacking.agrosem.ua\/product\/sulfat-magniyu-semivodnevij\/',\n",
       " 'https:\/\/smallpacking.agrosem.ua\/product\/sulfat-magniyu-granulovanij\/',\n",
       " 'https:\/\/smallpacking.agrosem.ua\/product\/sulfat-magniyu-yara-krista-mgs\/',\n",
       " 'https:\/\/smallpacking.agrosem.ua\/product\/surreal-fao-370\/',\n",
       " 'https:\/\/smallpacking.agrosem.ua\/product\/umberto-kvs-nasinnya-ozimogo-ripaku-2019-r-vrozhayu\/',\n",
       " 'https:\/\/smallpacking.agrosem.ua\/product\/umberto-kvs-nasinnya-ozimogo-ripaku-2020-r-vrozhayu\/',\n",
       " 'https:\/\/smallpacking.agrosem.ua\/product\/yara-folicare-npk-10-5-40-micro\/',\n",
       " 'https:\/\/smallpacking.agrosem.ua\/product\/yara-folicare-npk-12-0-38\/',\n",
       " 'https:\/\/smallpacking.agrosem.ua\/product\/yara-folicare-npk-12-46-8-micro\/',\n",
       " 'https:\/\/smallpacking.agrosem.ua\/product\/yara-folicare-npk-18-18-18-micro\/',\n",
       " 'https:\/\/smallpacking.agrosem.ua\/product\/yara-folicare-npk-22-5-22-micro\/',\n",
       " 'https:\/\/smallpacking.agrosem.ua\/product\/yara-ferticare-tomato\/',\n",
       " 'https:\/\/smallpacking.agrosem.ua\/product\/yara-ferticare-ovochi\/',\n",
       " 'https:\/\/smallpacking.agrosem.ua\/product\/dlya-fruktovih-ta-gorihovih-derev-2\/',\n",
       " 'https:\/\/smallpacking.agrosem.ua\/product\/dlya-yagidnih-chagarnikiv-2\/',\n",
       " 'https:\/\/smallpacking.agrosem.ua\/product\/dlya-yagidnih-chagarnikiv\/',\n",
       " 'https:\/\/smallpacking.agrosem.ua\/product\/universalne-gruntove-3\/',\n",
       " 'https:\/\/smallpacking.agrosem.ua\/product\/universalne-gruntove-5\/',\n",
       " 'https:\/\/smallpacking.agrosem.ua\/product\/universalne-gruntove\/',\n",
       " 'https:\/\/smallpacking.agrosem.ua\/product\/dlya-dekorativnih-listovih-4\/',\n",
       " 'https:\/\/smallpacking.agrosem.ua\/product\/dlya-vichnozelenih-derev-ta-kushhiv-6\/',\n",
       " 'https:\/\/smallpacking.agrosem.ua\/product\/universalne-gruntove-6\/',\n",
       " 'https:\/\/smallpacking.agrosem.ua\/product\/universalne-gruntove-4\/',\n",
       " 'https:\/\/smallpacking.agrosem.ua\/product\/dlya-gazonu-7\/',\n",
       " 'https:\/\/smallpacking.agrosem.ua\/product\/dlya-vichnozelenih-derev-ta-kushhiv-2\/',\n",
       " 'https:\/\/smallpacking.agrosem.ua\/product\/dlya-gazonu-4\/',\n",
       " 'https:\/\/smallpacking.agrosem.ua\/product\/dlya-dekorativnih-listovih-2\/',\n",
       " 'https:\/\/smallpacking.agrosem.ua\/product\/universalne-gruntove-7\/',\n",
       " 'https:\/\/smallpacking.agrosem.ua\/product\/dlya-gazonu-5\/',\n",
       " 'https:\/\/smallpacking.agrosem.ua\/product\/dlya-poluniczi\/',\n",
       " 'https:\/\/smallpacking.agrosem.ua\/product\/dlya-vichnozelenih-derev-ta-kushhiv-3\/',\n",
       " 'https:\/\/smallpacking.agrosem.ua\/product\/dlya-fruktovih-ta-gorihovih-derev\/',\n",
       " 'https:\/\/smallpacking.agrosem.ua\/product\/dlya-gazonu-8\/',\n",
       " 'https:\/\/smallpacking.agrosem.ua\/product\/dlya-dekorativnih-listovih-3\/',\n",
       " 'https:\/\/smallpacking.agrosem.ua\/product\/dlya-vichnozelenih-derev-ta-kushhiv-4\/',\n",
       " 'https:\/\/smallpacking.agrosem.ua\/product\/dlya-dekorativnih-listovih\/',\n",
       " 'https:\/\/smallpacking.agrosem.ua\/product\/dlya-ovochiv-na-vidkritomu-grunti\/',\n",
       " 'https:\/\/smallpacking.agrosem.ua\/product\/dlya-vinogradu\/',\n",
       " 'https:\/\/smallpacking.agrosem.ua\/product\/dlya-vichnozelenih-derev-ta-kushhiv-5\/',\n",
       " 'https:\/\/smallpacking.agrosem.ua\/product\/dlya-gazonu\/',\n",
       " 'https:\/\/smallpacking.agrosem.ua\/product\/dlya-ovochiv-na-vidkritomu-grunti-2\/',\n",
       " 'https:\/\/smallpacking.agrosem.ua\/product\/dlya-rozsadi\/',\n",
       " 'https:\/\/smallpacking.agrosem.ua\/product\/dlya-teplichnih-ovochiv-2\/',\n",
       " 'https:\/\/smallpacking.agrosem.ua\/product\/dlya-troyand-ta-inshih-kvitiv\/',\n",
       " 'https:\/\/smallpacking.agrosem.ua\/product\/dlya-vichnozelenih-derev-ta-kushhiv\/',\n",
       " 'https:\/\/smallpacking.agrosem.ua\/product\/dlya-gazonu-6\/',\n",
       " 'https:\/\/smallpacking.agrosem.ua\/product\/dlya-teplichnih-ovochiv\/']"
      ]
     },
     "metadata":{
      
     },
     "output_type":"display_data"
    }
   ],
   "metadata":{
    "datalore":{
     "type":"CODE",
     "hide_input_from_viewers":false,
     "hide_output_from_viewers":false
    }
   }
  },
  {
   "cell_type":"code",
   "source":[
    "import nums_from_string\n",
    "temp=[]\n",
    "sp=[]\n",
    "\n",
    "for i in url:\n",
    "    r=requests.get(i,headers=headers)\n",
    "    soup=BeautifulSoup(r.text,'lxml')\n",
    "    temp.append(int(soup.find('span',class_='sku').text.strip('SKU: ')))\n",
    "    temp.append(soup.find('div',class_='atributes-description').h2.text)\n",
    "    n=nums_from_string.get_nums(soup.find('span',class_='regular-price').text)\n",
    "    f1 = \"\"\n",
    "\n",
    "    for i in n:\n",
    "        f1 += str(i)+ \"\" \n",
    "    try:    \n",
    "        temp.append(int(f1))\n",
    "    except:\n",
    "        temp.append(\"\")\n",
    "     \n",
    "        \n",
    "    if \"кг\" in r.text:\n",
    "         for im in soup.find('tr',class_='woocommerce-product-attributes-item woocommerce-product-attributes-item--attribute_pa_vaga').findAll('td',class_='woocommerce-product-attributes-item__value'):\n",
    "            if \"кг\" in im.text:\n",
    "                temp.append(im.p.text)\n",
    "                \n",
    "    else:\n",
    "        temp.append(\"\")\n",
    "    \n",
    "    \n",
    "    sp.append(temp)\n",
    "    \n",
    "    temp=[]\n",
    "    \n",
    "\n",
    "\n",
    "\n",
    "\n",
    "\n"
   ],
   "execution_count":90,
   "outputs":[
    
   ],
   "metadata":{
    "datalore":{
     "type":"CODE",
     "hide_input_from_viewers":false,
     "hide_output_from_viewers":false
    }
   }
  },
  {
   "cell_type":"code",
   "source":[
    "import sqlite3\n",
    "conn=sqlite3.connect('agro.db')\n",
    "curs=conn.cursor()\n",
    "sql=''' CREATE TABLE agrosem(SKU INT PRIMARY KEY,title TEXT, Price INT,Weight TEXT)\n",
    "'''\n",
    "curs.execute(sql)\n",
    "\n",
    "\n",
    "\n",
    "\n",
    "\n",
    "\n",
    "\n"
   ],
   "execution_count":91,
   "outputs":[
    {
     "data":{
      "text\/plain":[
       "<sqlite3.Cursor at 0x7f0d91742110>"
      ]
     },
     "metadata":{
      
     },
     "output_type":"display_data"
    }
   ],
   "metadata":{
    "datalore":{
     "type":"CODE",
     "hide_input_from_viewers":false,
     "hide_output_from_viewers":false
    }
   }
  },
  {
   "cell_type":"code",
   "source":[
    "for i in sp:\n",
    "    sql=''' INSERT INTO agrosem VALUES(?,?,?,?)'''\n",
    "    cur = conn.cursor()\n",
    "    cur.execute(sql, i) \n",
    "    "
   ],
   "execution_count":95,
   "outputs":[
    {
     "ename":"IntegrityError",
     "evalue":"IntegrityError: UNIQUE constraint failed: agrosem.SKU",
     "traceback":[
      "\u001b[0;31m---------------------------------------------------------------------------",
      "Traceback (most recent call last)",
      "    at line 4 in <module>",
      "IntegrityError: UNIQUE constraint failed: agrosem.SKU"
     ],
     "output_type":"error"
    }
   ],
   "metadata":{
    "datalore":{
     "type":"CODE",
     "hide_input_from_viewers":false,
     "hide_output_from_viewers":false
    }
   }
  },
  {
   "cell_type":"code",
   "source":[
    "conn.commit()\n",
    "curs.execute('SELECT * FROM agrosem')\n",
    "rows=curs.fetchall()\n",
    "print(rows)\n",
    "conn.close()"
   ],
   "execution_count":98,
   "outputs":[
    {
     "name":"stdout",
     "text":[
      "[(42522, '8Х288КЛДМ (високоолеїновий)', '', ''), (66336, '8Х477КЛ (високоолеїновий)', '', ''), (91797, 'AMELIOR (ФАО 240)', '', ''), (28164, 'Ferticare Hydro 6-14-30 + micro', 2500, '25 кг'), (66353, 'Ferticare Kombi 14-11-25 + micro', 2250, '25 кг'), (39566, 'MagPlon K (нітрат калію)', 930, '25 кг'), (94424, 'MAS 10.A (ФАО 180)', '', ''), (94116, 'MAS 15.T (ФАО 220)', '', ''), (63652, 'MAS 18.L (ФАО 210)', '', ''), (79663, 'MAS 20.A (ФАО 230) – Ексклюзивний гібрид ТОВ «АГРОСЕМ»', '', ''), (88745, 'MAS 20.F (ФАО 230)', '', ''), (65361, 'MAS 23.K (ФАО 220)', '', ''), (23893, 'MAS 24.С (ФАО 260)', '', ''), (49148, 'MAS 25.F (ФАО 250)', '', ''), (48722, 'MAS 28.A (ФАО 270)', '', ''), (71611, 'MAS 30.M (ФАО 310)', '', ''), (26429, 'MAS 30.К (ФАО 280)', '', ''), (78789, 'MAS 33.А (ФАО 320)', '', ''), (88291, 'MAS 35.К (ФАО 360)', '', ''), (87587, 'MAS 36.А (ФАО 300)', '', ''), (98914, 'MAS 37.V (ФАО 340)', '', ''), (38175, 'MAS 39.Т (ФАО 350)', '', ''), (89828, 'MAS 40.F (ФАО 390)', '', ''), (76368, 'MAS 44.А (ФАО 380)', '', ''), (77181, 'MAS 45.M (ФАО 440)', '', ''), (74396, 'MAS 47.Р (ФАО 400)', '', ''), (86827, 'MAS 80.IR', '', ''), (76355, 'MAS 81.C', '', ''), (22865, 'MAS 81.K', '', ''), (59822, 'MAS 82.A', '', ''), (58278, 'MAS 83.OL', '', ''), (12575, 'MAS 83.R', '', ''), (94287, 'MAS 85.SU', '', ''), (11182, 'MAS 86.CP', '', ''), (35624, 'MAS 86.OL', '', ''), (52655, 'MAS 87.A', '', ''), (36295, 'MAS 87.IR', '', ''), (46994, 'MAS 89.IR', '', ''), (54199, 'MAS 89.M', '', ''), (34872, 'MAS 90.F', '', ''), (82368, 'MAS 91.G', '', ''), (33229, 'MAS 92.CP', '', ''), (38959, 'MAS 93.CP', '', ''), (85189, 'MAS 96.P', '', ''), (99418, 'MAS 97.А', '', ''), (69156, 'Pulan 34.4', 15500, '600 кг'), (74266, 'Saletrosan®26', 120, '500 кг'), (26252, 'Saletrosan®30', 5930, '500 кг'), (67325, 'Saletrzak 27 macro', 3610, '500 кг'), (76913, 'Siarczan AS 21 Macro', 10600, '500 кг'), (67641, 'VASILI (ФАО 250)', '', ''), (51667, 'Yara Liva Кальциніт', 900, '25 кг'), (95975, 'Yara Liva Нітрабор', 920, '25 кг'), (93119, 'YaraBela Сульфан', 20200, '600 кг'), (35951, 'YaraIrix', 180, ''), (21521, 'YaraMila Complex 12-11-18', 1400, '25 кг'), (31357, 'YaraMila Cropcare 11-11-21', 1400, '25 кг'), (47993, 'YaraMila NP 20-20 +9,0SO3', 20300, '600 кг'), (89147, 'YaraMila NPK 12-24-12', 22900, '600 кг'), (84721, 'YaraMila NPK 16-16-16', 20200, '600 кг'), (63243, 'YaraMila NPK 16-27-7', 22300, '600 кг'), (24963, 'YaraMila NPK 18-11-13', 130, '600 кг'), (24344, 'YaraMila NPK 7-20-28', 22200, '600 кг'), (64776, 'YaraMila NPK 8-24-24', 20500, '600 кг'), (66872, 'YaraMila NPK 9-12-25 + 2MgO + 6,5SO3 + micro', 17100, '600 кг'), (19571, 'YaraTera SOP (сульфат калію)', 1800, '25 кг'), (16332, 'YaraVita Rexolin ABC (комплекс мікроелементів)', 2580, '5 кг'), (77348, 'YaraVita Rexolin D12 (хелат заліза)', 2410, '5 кг'), (76429, 'YaraVita Бортрак', 1900, ''), (13111, 'YaraVita Брасітрел Про', 2520, ''), (62796, 'YaraVita Грамітрел', 2780, ''), (79615, 'YaraVita КомбіФос', 2100, ''), (47133, 'YaraVita Манкоцин', 1820, ''), (37314, 'YaraVita Мантрак Про', 1910, ''), (22322, 'YaraVita Меїз Буст', 2900, ''), (42617, 'YaraVita Молітрак', 7500, ''), (94157, 'YaraVita Тепросин NP+Zn', 3450, ''), (78528, 'YaraVita Тіотрак', 1440, ''), (97554, 'YaraVita Фосамко Біо', 1740, ''), (93579, 'YaraVita Цинтрак', 2220, ''), (15119, 'Альваро КВС, насіння озимого ріпаку, 2019 р. врожаю', 50, ''), (78664, 'Альваро КВС, насіння озимого ріпаку, 2020 р. врожаю', 5700, ''), (32246, 'АМАРОС (ФАО 230)', '', ''), (21173, 'БОГАТИР (ФАО 290)', '', ''), (92995, 'ГАРМОНІУМ (ФАО 380)', '', ''), (92478, 'Гибрікок KWS, 2019 р. врожаю', 4500, ''), (45875, 'Гибрікок KWS, 2020 р. врожаю', 5500, ''), (13478, 'ДА СОНКА (ФАО 350)', '', ''), (10509521, 'Добриво для азалій та рододендронів', 129, ''), (10509526, 'Добриво для винограду', 129, ''), (10509519, 'Добриво для декоративно-листяних кімнатних рослин', 129, ''), (10509524, 'Добриво для квітучих кімнатних рослин', 129, ''), (10509529, 'Добриво для лохини та чорниці', 129, ''), (10509520, 'Добриво для магнолій, гортензій', 129, ''), (10509527, 'Добриво для овочевих культур та зелені', 129, ''), (10509523, 'Добриво для орхідей', 129, ''), (10509522, 'Добриво для петуній та сурфіній', 129, ''), (10509517, 'Добриво для плодово-ягідних культур', 129, ''), (10509516, 'Добриво для рослин на основі витяжки морських водоростей та макро – мікроелементів YaraVITA', 249, ''), (10509531, 'Добриво для рослин на основі витяжки морських водоростей та макро – мікроелементів YaraVITA 1 л', 499, ''), (10509530, 'Добриво для саду та городу', 129, ''), (10509518, 'Добриво для самшиту та вічнозелених чагарників', 129, ''), (10509528, 'Добриво для троянд та квітучих рослин', 129, ''), (10509525, 'Добриво для хвойних рослин', 129, ''), (97543, 'ДС0336 (ФАО 310)', '', ''), (22661, 'ДС0493Б (ФАО 250)', '', ''), (25441, 'ДС0918Б (ФАО 270)', '', ''), (79977, 'ДС1202Б (ФАО 260)', '', ''), (36989, 'ДС1304С (ФАО 350)', '', ''), (57866, 'ДСЛ402', '', ''), (31679, 'ДСХ403 (високоолеїновий)', '', ''), (95642, 'ЕС АНДРОМЕДА', '', ''), (56446, 'ЕС АРГЕНТІК', '', ''), (45418, 'ЕС АРКАДІЯ СУ', '', ''), (65651, 'ЕС АРОМАТІК СУ', '', ''), (64934, 'ЕС АСТЕРОІД (ФАО 290)', '', ''), (37339, 'ЕС БЕЛЛА', '', ''), (43984, 'ЕС ВЕРОНІКА', '', ''), (13959, 'ЕС ГЕНЕЗІС', '', ''), (64464, 'ЕС ГЕНЕРАЛІС СЛ', '', ''), (23171, 'ЕС ГРАФІК СЛ', '', ''), (82241, 'ЕС ІЗІДА', '', ''), (89273, 'ЕС ІНВЕНТІВ (ФАО 300)', '', ''), (61625, 'ЕС КОНКОРД (ФАО 250)', '', ''), (52329, 'ЕС КРЕАТИВ (ФАО 300)', '', ''), (29897, 'ЕС КРОССМАН (ФАО 240)', '', ''), (18262, 'ЕС МЕЙФЛАВЕР (ФАО 330)', '', ''), (74919, 'ЕС МЕТОД (ФАО 380)', '', ''), (93843, 'ЕС МІЛОРД (ФАО 380)', '', ''), (56874, 'ЕС МОСКІТО (ФАО 350)', '', ''), (22374, 'ЕС НІАГАРА', '', ''), (41839, 'ЕС НОВАМІС СЛ', '', ''), (58715, 'ЕС РОЗАЛІЯ', '', ''), (51976, 'ЕС РОМАНТИК', '', ''), (72952, 'ЕС САВАНА', '', ''), (99252, 'ЕС СЕНСОР (ФАО 370)', '', ''), (83792, 'ЕС ТЕРРАМІС ЕС', '', ''), (41618, 'ЕС ФАРАДЕЙ (ФАО 350)', '', ''), (63976, 'ЕС ХЕМІНГУЕЙ (ФАО 280)', '', ''), (86472, 'ЕС ЯНІС', '', ''), (81892, 'Етерно КВС, насіння озимого жита', 2200, ''), (91815, 'Етерно КВС, насіння озимого жита', 530, ''), (31292, 'Етерно КВС, насіння озимого жита', 500, ''), (42579, 'Етерно КВС, насіння озимого жита, протруєне', 560, ''), (68438, 'Кrista MAG (нітрат магнію)', 1110, '25 кг'), (66368, 'Кrista К (нітрат калію)', 1570, '25 кг'), (34254, 'Кrista МАР (моноамоній фосфат)', 3300, '25 кг'), (34559, 'Кrista МКР (монокалій фосфат)', 3900, '25 кг'), (97462, 'КАВАЛЕР (ФАО 250), UNIQUEDENT', '', ''), (36687, 'КАНЬЙОНС (ФАО 230), UNIQUEDENT', '', ''), (33481, 'КАРІФОЛС (ФАО 380)', '', ''), (23512, 'КАРПАТІС (ФАО 340)', '', ''), (73738, 'КВС 2323 (ФАО 260), UNIQUEDENT', '', ''), (72269, 'КВС 2370 (ФАО 280), UNIQUEDENT', '', ''), (86812, 'КВС 381 (ФАО 350)', '', ''), (73646, 'КВС 4484 (ФАО 370)', '', ''), (52126, 'КВС АСЕР КЛ', '', ''), (56714, 'КВС Боно, насіння озимого жита', 490, ''), (56312, 'КВС ДРАГОН', '', ''), (35619, 'КВС КАШЕМІР (ФАО 380)', '', ''), (13315, 'КВС КУМПАН (ФАО 290), UNIQUEDENT', '', ''), (63683, 'КВС Магніфіко, насіння озимого жита на силос', 1900, ''), (61723, 'КВС Магніфіко, насіння озимого жита на силос', 460, ''), (12789, 'КВС Пропауер, насіння озимого жита', 550, ''), (62997, 'КВС Тайо, насіння озимого жита', 550, ''), (27946, 'КВС Феррі, озимий ріпак, 2020 р. врожаю', 60, ''), (24669, 'КЕЛТІКУС (ФАО 270), UNIQUEDENT', '', ''), (46895, 'КЕРБЕРОС (ФАО 310)', '', ''), (31643, 'КРАБАС (ФАО 300)', '', ''), (38994, 'МАРК КВС, 2019 р. врожаю', 50, ''), (99753, 'МАРК КВС, 2020 р. врожаю', 5700, ''), (66675, 'МТ МАТАДО (ФАО 380)', '', ''), (87931, 'Озимий ріпак Фактор КВС, 2019 р. врожаю, ексклюзив «Агросем»', 5200, ''), (38134, 'Озимий ріпак Фактор КВС, 2020 р. врожаю, ексклюзив «Агросем»', 5800, ''), (25875, 'П63ЛЕ10', '', ''), (71288, 'П63ЛЛ124', '', ''), (64383, 'П64ГЕ133 (високоолеїновий)', '', ''), (51733, 'П64ЛЕ99', '', ''), (28239, 'П64ЛЦ108', '', ''), (99157, 'П8025 (ФАО 230)', '', ''), (67726, 'П8409 (ФАО 260)', '', ''), (92512, 'П8723 (ФАО 280)', '', ''), (25371, 'П9025 (ФАО 330)', '', ''), (52787, 'П9486 (ФАО 340)', '', ''), (93768, 'ПX113, озимий ріпак', 5800, ''), (32979, 'ПX128, озимий ріпак', 70, ''), (27795, 'ПР44Д06, озимий ріпак', 6400, ''), (29272, 'ПР46В21, озимий ріпак', 5800, ''), (67125, 'ПТ200КЛ, озимий ріпак', 70, ''), (41695, 'ПТ234, озимий ріпак', 5800, ''), (84913, 'ПТ248, озимий ріпак', 6600, ''), (94498, 'ПТ264, озимий ріпак', 70, ''), (45838, 'ПТ269, озимий ріпак', 6700, ''), (66139, 'ПТ271, озимий ріпак', 70, ''), (87933, 'ПТ275, озимий ріпак', 70, ''), (14888, 'ПТ279КЛ, озимий ріпак', 7400, ''), (87376, 'ПХ125КЛ, озимий ріпак', 70, ''), (14592, 'ПХ131, озимий ріпак', 70, ''), (65157, 'Сульфат магнію (семиводневий)', 600, '25 кг'), (76265, 'Сульфат магнію гранульований', 16600, '1000 кг'), (75575, 'Сульфат магнію Яра Krista MgS', 630, '25 кг'), (61746, 'СУРРЕАЛ (ФАО 370)', '', ''), (33632, 'Умберто КВС, насіння озимого ріпаку, 2019 р. врожаю', 5200, ''), (88369, 'Умберто КВС, насіння озимого ріпаку, 2020 р. врожаю', 5800, ''), (55781, 'Яра (Folicare) NPK 10-5-40+micro', 2450, '25 кг'), (65565, 'Яра (Folicare) NPK 12-0-38', 2450, '25 кг'), (88381, 'Яра (Folicare) NPK 12-46-8+micro', 2700, '25 кг'), (91621, 'Яра (Folicare) NPK 18-18-18+micro', 2450, '25 кг'), (68487, 'Яра (Folicare) NPK 22-5-22+micro', 2450, '25 кг'), (35486, 'Яра Ferticare Tomato', 2370, '25 кг'), (71533, 'Яра Ferticare Овочі', 2470, '25 кг'), (439226, 'Добриво для фруктових та горіхових дерев', 525, '3 кг'), (1297, 'Добриво для ягідних чагарників', 525, '3 кг'), (91897, 'Добриво для ягідних чагарників', 213, '1 кг'), (61169, 'Добриво універсальне грунтове', 213, '1 кг'), (6651824, 'Добриво універсальне грунтове', 525, '3 кг'), (5227876, 'Добриво універсальне грунтове', 1415, '10 кг'), (32237, 'Добриво для декоративних листових', 525, '3 кг'), (4165215, 'Добриво для вічнозелених дерев та кущів', 1415, '10 кг'), (682645, 'Добриво універсальне грунтове', 525, '3 кг'), (7435, 'Добриво універсальне грунтове', 213, '1 кг'), (9354141, 'Добриво для газону', 525, '3 кг'), (1955, 'Добриво для вічнозелених дерев та кущів', 213, '1 кг'), (455799, 'Добриво для газону', 213, '1 кг'), (991645, 'Добриво для декоративних листових', 213, '1 кг'), (17477, 'Добриво універсальне грунтове', 1415, '10 кг'), (7143174, 'Добриво для газону', 525, '3 кг'), (3593, 'Добриво для полуниці', 213, '1 кг'), (4738184, 'Добриво для вічнозелених дерев та кущів', 525, '3 кг'), (3177412, 'Добриво для фруктових та горіхових дерев', 213, '1 кг'), (16762, 'Добриво для газону', 1415, '10 кг'), (78747, 'Добриво для декоративних листових', 525, '3 кг'), (5218, 'Добриво для вічнозелених дерев та кущів', 1415, '10 кг'), (33486, 'Добриво для декоративних листових', 213, '1 кг'), (198742, 'Добриво для овочів', 525, '3 кг'), (797756, 'Добриво для винограду', 213, '1 кг'), (726319, 'Добриво для вічнозелених дерев та кущів', 525, '3 кг'), (789868, 'Добриво для газону', 213, '1 кг'), (88255, 'Добриво для овочів', 213, '1 кг'), (68183, 'Добриво для розсади', 213, '1 кг'), (5656841, 'Добриво для тепличних овочів', 525, '3 кг'), (2217672, 'Добриво для троянд', 213, '1 кг'), (8362626, 'Добриво для вічнозелених дерев та кущів', 213, '1 кг'), (375738, 'Добриво для газону', 1415, '10 кг'), (51561, 'Добриво для тепличних овочів', 213, '1 кг')]\n"
     ],
     "output_type":"stream"
    }
   ],
   "metadata":{
    "datalore":{
     "type":"CODE",
     "hide_input_from_viewers":false,
     "hide_output_from_viewers":false
    }
   }
  },
  {
   "cell_type":"markdown",
   "source":[
    "### Завдання 3: "
   ],
   "attachments":{
    
   },
   "metadata":{
    "datalore":{
     "type":"MD",
     "hide_input_from_viewers":false,
     "hide_output_from_viewers":false
    }
   }
  },
  {
   "cell_type":"markdown",
   "source":[
    "Ознайомтеся із роботою SQLite та відповідним модулем у Python.\n",
    "Завантажте базу даних для виконання лабораторної роботи.\n",
    "Підключіться до завантаженої бази SQLite."
   ],
   "attachments":{
    
   },
   "metadata":{
    "datalore":{
     "type":"MD",
     "hide_input_from_viewers":false,
     "hide_output_from_viewers":false
    }
   }
  },
  {
   "cell_type":"markdown",
   "source":[
    "1. Виведіть інформацію про дану базу."
   ],
   "attachments":{
    
   },
   "metadata":{
    "datalore":{
     "type":"MD",
     "hide_input_from_viewers":false,
     "hide_output_from_viewers":false
    }
   }
  },
  {
   "cell_type":"code",
   "source":[
    
   ],
   "execution_count":null,
   "outputs":[
    
   ],
   "metadata":{
    "datalore":{
     "type":"CODE",
     "hide_input_from_viewers":false,
     "hide_output_from_viewers":false
    }
   }
  },
  {
   "cell_type":"markdown",
   "source":[
    "2. Виведіть перелік всіх таблиць."
   ],
   "attachments":{
    
   },
   "metadata":{
    "datalore":{
     "type":"MD",
     "hide_input_from_viewers":false,
     "hide_output_from_viewers":false
    }
   }
  },
  {
   "cell_type":"code",
   "source":[
    
   ],
   "execution_count":null,
   "outputs":[
    
   ],
   "metadata":{
    "datalore":{
     "type":"CODE",
     "hide_input_from_viewers":false,
     "hide_output_from_viewers":false
    }
   }
  },
  {
   "cell_type":"markdown",
   "source":[
    "3. Список всіх cust_id з таблиці Customers table."
   ],
   "attachments":{
    
   },
   "metadata":{
    "datalore":{
     "type":"MD",
     "hide_input_from_viewers":false,
     "hide_output_from_viewers":false
    }
   }
  },
  {
   "cell_type":"code",
   "source":[
    
   ],
   "execution_count":null,
   "outputs":[
    
   ],
   "metadata":{
    "datalore":{
     "type":"CODE",
     "hide_input_from_viewers":false,
     "hide_output_from_viewers":false
    }
   }
  },
  {
   "cell_type":"markdown",
   "source":[
    "4. Всю таблицю Customers table"
   ],
   "attachments":{
    
   },
   "metadata":{
    "datalore":{
     "type":"MD",
     "hide_input_from_viewers":false,
     "hide_output_from_viewers":false
    }
   }
  },
  {
   "cell_type":"code",
   "source":[
    
   ],
   "execution_count":null,
   "outputs":[
    
   ],
   "metadata":{
    "datalore":{
     "type":"CODE",
     "hide_input_from_viewers":false,
     "hide_output_from_viewers":false
    }
   }
  },
  {
   "cell_type":"markdown",
   "source":[
    "5. Список клієнтів (cust_names) відсортованих від Z до A"
   ],
   "attachments":{
    
   },
   "metadata":{
    "datalore":{
     "type":"MD",
     "hide_input_from_viewers":false,
     "hide_output_from_viewers":false
    }
   }
  },
  {
   "cell_type":"code",
   "source":[
    
   ],
   "execution_count":null,
   "outputs":[
    
   ],
   "metadata":{
    "datalore":{
     "type":"CODE",
     "hide_input_from_viewers":false,
     "hide_output_from_viewers":false
    }
   }
  },
  {
   "cell_type":"markdown",
   "source":[
    "6. Таблицю клієнтів та замовлень (cust_id і order_num) . Відсортуйте по клієнту і потім по даті замовлення"
   ],
   "attachments":{
    
   },
   "metadata":{
    "datalore":{
     "type":"MD",
     "hide_input_from_viewers":false,
     "hide_output_from_viewers":false
    }
   }
  },
  {
   "cell_type":"code",
   "source":[
    
   ],
   "execution_count":null,
   "outputs":[
    
   ],
   "metadata":{
    "datalore":{
     "type":"CODE",
     "hide_input_from_viewers":false,
     "hide_output_from_viewers":false
    }
   }
  },
  {
   "cell_type":"markdown",
   "source":[
    "7. Таблицю (на основі Items) з кількість та вартістю товару. Відсортуйте в порядку спадання по кількості та вартості"
   ],
   "attachments":{
    
   },
   "metadata":{
    "datalore":{
     "type":"MD",
     "hide_input_from_viewers":false,
     "hide_output_from_viewers":false
    }
   }
  },
  {
   "cell_type":"code",
   "source":[
    
   ],
   "execution_count":null,
   "outputs":[
    
   ],
   "metadata":{
    "datalore":{
     "type":"CODE",
     "hide_input_from_viewers":false,
     "hide_output_from_viewers":false
    }
   }
  },
  {
   "cell_type":"markdown",
   "source":[
    "8. Товар (з таблиці Products), ціна якого становить 9.49"
   ],
   "attachments":{
    
   },
   "metadata":{
    "datalore":{
     "type":"MD",
     "hide_input_from_viewers":false,
     "hide_output_from_viewers":false
    }
   }
  },
  {
   "cell_type":"code",
   "source":[
    
   ],
   "execution_count":null,
   "outputs":[
    
   ],
   "metadata":{
    "datalore":{
     "type":"CODE",
     "hide_input_from_viewers":false,
     "hide_output_from_viewers":false
    }
   }
  },
  {
   "cell_type":"markdown",
   "source":[
    "9. Виведіть назву товару та ціну, яка лежить в діапазоні від  3 до 6. Відсортуйте результат в по ціні в порядку зростання"
   ],
   "attachments":{
    
   },
   "metadata":{
    "datalore":{
     "type":"MD",
     "hide_input_from_viewers":false,
     "hide_output_from_viewers":false
    }
   }
  },
  {
   "cell_type":"code",
   "source":[
    
   ],
   "execution_count":null,
   "outputs":[
    
   ],
   "metadata":{
    "datalore":{
     "type":"CODE",
     "hide_input_from_viewers":false,
     "hide_output_from_viewers":false
    }
   }
  },
  {
   "cell_type":"markdown",
   "source":[
    "10. Кількість товару, що було продано"
   ],
   "attachments":{
    
   },
   "metadata":{
    "datalore":{
     "type":"MD",
     "hide_input_from_viewers":false,
     "hide_output_from_viewers":false
    }
   }
  },
  {
   "cell_type":"code",
   "source":[
    
   ],
   "execution_count":null,
   "outputs":[
    
   ],
   "metadata":{
    "datalore":{
     "type":"CODE",
     "hide_input_from_viewers":false,
     "hide_output_from_viewers":false
    }
   }
  },
  {
   "cell_type":"markdown",
   "source":[
    "11. Кількість найменувань товару, ціна якого більша за 4"
   ],
   "attachments":{
    
   },
   "metadata":{
    "datalore":{
     "type":"MD",
     "hide_input_from_viewers":false,
     "hide_output_from_viewers":false
    }
   }
  },
  {
   "cell_type":"code",
   "source":[
    
   ],
   "execution_count":null,
   "outputs":[
    
   ],
   "metadata":{
    "datalore":{
     "type":"CODE",
     "hide_input_from_viewers":false,
     "hide_output_from_viewers":false
    }
   }
  },
  {
   "cell_type":"markdown",
   "source":[
    "12. Розробіть алгоритм для виведення 3 найдорожчих товарів в базі"
   ],
   "attachments":{
    
   },
   "metadata":{
    "datalore":{
     "type":"MD",
     "hide_input_from_viewers":false,
     "hide_output_from_viewers":false
    }
   }
  },
  {
   "cell_type":"code",
   "source":[
    
   ],
   "execution_count":null,
   "outputs":[
    
   ],
   "metadata":{
    "datalore":{
     "type":"CODE",
     "hide_input_from_viewers":false,
     "hide_output_from_viewers":false
    }
   }
  },
  {
   "cell_type":"markdown",
   "source":[
    "13. Підрахуйте кількість замовлень для кожного клієнта використовуючи підзапити"
   ],
   "attachments":{
    
   },
   "metadata":{
    "datalore":{
     "type":"MD",
     "hide_input_from_viewers":false,
     "hide_output_from_viewers":false
    }
   }
  },
  {
   "cell_type":"code",
   "source":[
    
   ],
   "execution_count":null,
   "outputs":[
    
   ],
   "metadata":{
    "datalore":{
     "type":"CODE",
     "hide_input_from_viewers":false,
     "hide_output_from_viewers":false
    }
   }
  },
  {
   "cell_type":"markdown",
   "source":[
    "14. Виведіть список клієнтів та їх замовлення (використайте JOIN)"
   ],
   "attachments":{
    
   },
   "metadata":{
    "datalore":{
     "type":"MD",
     "hide_input_from_viewers":false,
     "hide_output_from_viewers":false
    }
   }
  },
  {
   "cell_type":"code",
   "source":[
    
   ],
   "execution_count":null,
   "outputs":[
    
   ],
   "metadata":{
    "datalore":{
     "type":"CODE",
     "hide_input_from_viewers":false,
     "hide_output_from_viewers":false
    }
   }
  },
  {
   "cell_type":"markdown",
   "source":[
    "15. Зробіть два запити: список товарів, ціна яких менша 5 та список товарів, ціна який більша рівна 5. Використайте UNION для об'єднання цих запитів"
   ],
   "attachments":{
    
   },
   "metadata":{
    "datalore":{
     "type":"MD",
     "hide_input_from_viewers":false,
     "hide_output_from_viewers":false
    }
   }
  },
  {
   "cell_type":"code",
   "source":[
    
   ],
   "execution_count":null,
   "outputs":[
    
   ],
   "metadata":{
    "datalore":{
     "type":"CODE",
     "hide_input_from_viewers":false,
     "hide_output_from_viewers":false
    }
   }
  },
  {
   "cell_type":"markdown",
   "source":[
    "### Завдання 4: "
   ],
   "attachments":{
    
   },
   "metadata":{
    "datalore":{
     "type":"MD",
     "hide_input_from_viewers":false,
     "hide_output_from_viewers":false
    }
   }
  },
  {
   "cell_type":"markdown",
   "source":[
    "Зареєструйтеся на сайті  http:\/\/www.sql-ex.ru\/\n",
    "\n",
    "Виконайте завдання із блоку SELECT; з 1 по 30 завдання\n",
    "\n",
    "Код запитів вставляйте сюди"
   ],
   "attachments":{
    
   },
   "metadata":{
    "datalore":{
     "type":"MD",
     "hide_input_from_viewers":false,
     "hide_output_from_viewers":false
    }
   }
  },
  {
   "cell_type":"code",
   "source":[
    
   ],
   "execution_count":null,
   "outputs":[
    
   ],
   "metadata":{
    "datalore":{
     "type":"CODE",
     "hide_input_from_viewers":false,
     "hide_output_from_viewers":false
    }
   }
  }
 ],
 "metadata":{
  "datalore":{
   "version":1,
   "computation_mode":"JUPYTER",
   "package_manager":"pip",
   "base_environment":"default",
   "packages":[
    {
     "name":"nums-from-string",
     "version":"0.1.2",
     "source":"PIP"
    }
   ]
  }
 },
 "nbformat":4,
 "nbformat_minor":4
}