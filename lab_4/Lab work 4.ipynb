{
 "cells":[
  {
   "cell_type":"markdown",
   "source":[
    "___\n",
    "\n",
    "<a href='https:\/\/mainacademy.ua\/'> <img src='https:\/\/mainacademy.ua\/wp-content\/uploads\/2019\/03\/logo-main.png' alt = 'Хмм, щось з інтернетом'\/><\/a>\n",
    "___\n",
    "\n",
    "# Module 4: Work with data professionally!"
   ],
   "attachments":{
    
   },
   "metadata":{
    "datalore":{
     "type":"MD",
     "hide_input_from_viewers":false,
     "hide_output_from_viewers":false
    }
   }
  },
  {
   "cell_type":"markdown",
   "source":[
    "## Lab work 4\n"
   ],
   "attachments":{
    
   },
   "metadata":{
    "datalore":{
     "type":"MD",
     "hide_input_from_viewers":false,
     "hide_output_from_viewers":false
    }
   }
  },
  {
   "cell_type":"markdown",
   "source":[
    "#### Мета: \n",
    "\n",
    "* навчитися обробляти дані\n",
    "* \"парсити\" сайти"
   ],
   "attachments":{
    
   },
   "metadata":{
    "datalore":{
     "type":"MD",
     "hide_input_from_viewers":false,
     "hide_output_from_viewers":false
    }
   }
  },
  {
   "cell_type":"markdown",
   "source":[
    "### Завдання 1:"
   ],
   "attachments":{
    
   },
   "metadata":{
    "datalore":{
     "type":"MD",
     "hide_input_from_viewers":false,
     "hide_output_from_viewers":false
    }
   }
  },
  {
   "cell_type":"markdown",
   "source":[
    "#### Ознайомитися із API Національного банку \n",
    "https:\/\/old.bank.gov.ua\/control\/uk\/publish\/article?art_id=38441973&cat_id=38459171#exchange\n"
   ],
   "attachments":{
    
   },
   "metadata":{
    "datalore":{
     "type":"MD",
     "hide_input_from_viewers":false,
     "hide_output_from_viewers":false
    }
   }
  },
  {
   "cell_type":"markdown",
   "source":[
    "1. Підключитися до API."
   ],
   "attachments":{
    
   },
   "metadata":{
    "datalore":{
     "type":"MD",
     "hide_input_from_viewers":false,
     "hide_output_from_viewers":false
    }
   }
  },
  {
   "cell_type":"code",
   "source":[
    "import requests\n",
    "import datetime\n",
    "\n",
    "r=requests.get('https:\/\/bank.gov.ua\/NBUStatService\/v1\/statdirectory\/exchange?date=20220302&json')\n",
    "#db=r.json()\n",
    "\n",
    "\n",
    "\n",
    "db=[]\n",
    "date= datetime.datetime.now()\n",
    "for i in range(365):\n",
    "    params = {\n",
    "        'date': date.strftime('%Y%m%d'),\n",
    "        'json': 'json'\n",
    "        }\n",
    "    r=requests.get('https:\/\/bank.gov.ua\/NBUStatService\/v1\/statdirectory\/exchange', params=params)\n",
    "    if r.status_code==200:\n",
    "        res=r.json()\n",
    "        db.extend(res)\n",
    "    date=date-datetime.timedelta(days=1)\n"
   ],
   "execution_count":51,
   "outputs":[
    
   ],
   "metadata":{
    "datalore":{
     "type":"CODE",
     "hide_input_from_viewers":false,
     "hide_output_from_viewers":false
    }
   }
  },
  {
   "cell_type":"markdown",
   "source":[
    "2. Отримати курс долара за останній рік."
   ],
   "attachments":{
    
   },
   "metadata":{
    "datalore":{
     "type":"MD",
     "hide_input_from_viewers":false,
     "hide_output_from_viewers":false
    }
   }
  },
  {
   "cell_type":"code",
   "source":[
    "year=[]\n",
    "for i in db:\n",
    "    if i['cc']=='USD':\n",
    "        year.append (i['rate'])\n",
    "print(year)\n",
    "temp_db=db\n",
    "for i in temp_db:\n",
    "    i['exchangedate']= i['exchangedate'][3:]"
   ],
   "execution_count":52,
   "outputs":[
    {
     "name":"stdout",
     "text":[
      "[29.2549, 29.2549, 29.2549, 29.2549, 29.2549, 29.2549, 29.2549, 29.2549, 29.2549, 29.2549, 29.2549, 29.2549, 29.2549, 29.2549, 29.2549, 29.2549, 29.2549, 29.2549, 29.2549, 29.2549, 29.2549, 29.2549, 29.2549, 29.2549, 29.2549, 29.2549, 29.2549, 29.2549, 29.2549, 29.2549, 29.2549, 29.2549, 29.2549, 29.2549, 29.2549, 29.2549, 29.2549, 29.2549, 29.2549, 29.2549, 29.2549, 29.2549, 29.2549, 29.2549, 29.2549, 29.2549, 29.2549, 29.2549, 29.2549, 29.2549, 29.2549, 29.2549, 29.2549, 29.2549, 29.2549, 29.2549, 29.2549, 29.2549, 29.2549, 29.2549, 29.2549, 29.2549, 29.2549, 29.2549, 29.2549, 29.2549, 29.2549, 29.2549, 29.2549, 29.2549, 29.2549, 29.2549, 29.2549, 29.2549, 29.2549, 29.2549, 29.2549, 29.2549, 29.2549, 29.2549, 29.2549, 29.2549, 29.2549, 29.2549, 29.2549, 29.2549, 29.2549, 29.2549, 29.2549, 29.2549, 29.2549, 29.2549, 29.2549, 29.2549, 29.2549, 29.2549, 29.2549, 29.2549, 29.2549, 29.2549, 29.2549, 29.2549, 29.2549, 29.2549, 29.2549, 29.2549, 29.2549, 28.9877, 28.4846, 28.3428, 28.3, 28.3, 28.3, 28.0943, 28.2424, 28.5355, 28.0346, 27.8756, 27.8756, 27.8756, 27.9795, 27.9619, 27.9998, 28.1468, 28.2701, 28.2701, 28.2701, 28.3876, 28.318, 28.4555, 28.7839, 28.9879, 28.9879, 28.9879, 28.7984, 28.6658, 28.3749, 28.3181, 28.3236, 28.3236, 28.3236, 28.4038, 28.4101, 28.122, 27.9514, 27.7372, 27.7372, 27.7372, 27.7073, 27.5093, 27.4998, 27.4977, 27.4551, 27.4551, 27.4551, 27.4551, 27.2976, 27.2782, 27.2782, 27.2782, 27.2782, 27.2782, 27.2077, 27.2235, 27.2306, 27.2747, 27.2747, 27.2747, 27.2747, 27.2508, 27.2598, 27.2846, 27.2483, 27.1929, 27.1929, 27.1929, 27.196, 26.9985, 26.8846, 27.0241, 27.1013, 27.1013, 27.1013, 27.2167, 27.3317, 27.3791, 27.2981, 27.2933, 27.2933, 27.2933, 27.2296, 27.2142, 27.1739, 27.1033, 27.0256, 27.0256, 27.0256, 26.9273, 26.8604, 26.6588, 26.5694, 26.4427, 26.4427, 26.4427, 26.5147, 26.4133, 26.3371, 26.1107, 26.1022, 26.1022, 26.1022, 26.0575, 26.0927, 26.0806, 26.102, 26.19, 26.19, 26.19, 26.2431, 26.2904, 26.2933, 26.2767, 26.3265, 26.3265, 26.3265, 26.3712, 26.419, 26.3509, 26.2918, 26.2918, 26.2918, 26.2016, 26.2078, 26.272, 26.3356, 26.3419, 26.349, 26.349, 26.349, 26.349, 26.349, 26.36, 26.3515, 26.3314, 26.3314, 26.3314, 26.3503, 26.4244, 26.5722, 26.61, 26.6175, 26.6175, 26.6175, 26.576, 26.5698, 26.6556, 26.6422, 26.5272, 26.5272, 26.5272, 26.6714, 26.7081, 26.7072, 26.7028, 26.6672, 26.6672, 26.6672, 26.645, 26.6362, 26.692, 26.6782, 26.7264, 26.7264, 26.7264, 26.7452, 26.7317, 26.8102, 26.9298, 27.0247, 27.0247, 27.0247, 27.0029, 26.8928, 26.8601, 26.929, 26.929, 26.929, 26.7744, 26.7074, 26.6718, 26.6504, 26.6504, 26.6504, 26.6504, 26.6504, 26.6455, 26.6752, 26.6457, 26.6931, 26.7686, 26.7686, 26.7686, 26.8042, 26.7557, 26.8011, 26.8346, 26.9395, 26.9395, 26.9395, 26.9094, 26.8411, 26.8444, 26.8168, 26.8867, 26.8867, 26.8867, 26.8628, 26.906, 26.9805, 27.048, 27.1915, 27.1915, 27.1915, 27.2405, 27.2205, 27.2132, 27.2301, 27.2905, 27.2905, 27.2905, 27.3047, 27.3216, 27.2904, 27.3234, 27.2862, 27.2862, 27.2862, 27.2993, 27.2497, 27.2904, 27.4121, 27.3841, 27.3841, 27.3841, 27.2275, 27.1763, 27.3964, 27.4589, 27.4589, 27.4589, 27.4589, 27.2737, 27.305, 27.1935, 27.1712, 27.1712, 27.1712, 27.1712, 27.0275, 26.9258, 26.9957, 27.0404, 27.1068, 27.1068, 27.1068]\n"
     ],
     "output_type":"stream"
    }
   ],
   "metadata":{
    "datalore":{
     "type":"CODE",
     "hide_input_from_viewers":false,
     "hide_output_from_viewers":false
    }
   }
  },
  {
   "cell_type":"markdown",
   "source":[
    "3. Вивести середнє значення та відхилення курсу за кожний місяць."
   ],
   "attachments":{
    
   },
   "metadata":{
    "datalore":{
     "type":"MD",
     "hide_input_from_viewers":false,
     "hide_output_from_viewers":false
    }
   }
  },
  {
   "cell_type":"code",
   "source":[
    "import math\n",
    "def sr_kv_vidh(a):\n",
    "    \n",
    "    sum_of_kv=0\n",
    "    sr_arif=sr_znach(a)\n",
    "    temp_array=[]\n",
    "    for i in range(len(a)):\n",
    "        temp_array.append(a[i]-sr_arif)\n",
    "    for i in range(len(temp_array)):\n",
    "        temp_array[i]=temp_array[i]*temp_array[i]\n",
    "    for i in range(len(temp_array)):\n",
    "        sum_of_kv+=temp_array[i]\n",
    "    k=sum_of_kv\/(len(a)-1)\n",
    "    sr_otkl=math.sqrt(k)\n",
    "    \n",
    "    return round(sr_otkl,5)\n",
    "def sr_znach(a):\n",
    "    sum=0\n",
    "    \n",
    "    for i in range(len(a)):\n",
    "        sum+=float(a[i])\n",
    "    sr_arif= round(sum\/len(a),5)\n",
    "    return sr_arif\n",
    "\n",
    "dict={}\n",
    "temp=[]\n",
    "ii=temp_db[0]['exchangedate']\n",
    " \n",
    "\n",
    "for row in db:\n",
    "    if row['exchangedate']==ii:\n",
    "        if row['cc']=='USD':\n",
    "            temp.append(row['rate'])\n",
    "\n",
    "    else:\n",
    "        \n",
    "        dict[ii]=temp\n",
    "        ii=row['exchangedate']\n",
    "        temp=[]\n",
    "        \n",
    "result=[] \n",
    "temp_result=[]\n",
    "for row in dict:\n",
    "    sr_arif=sr_znach(dict.get(row))\n",
    "    print('Месяц-',row)\n",
    "    temp_result.append('Месяц-'+row)\n",
    "    print('Середнє значення=',sr_arif)\n",
    "    temp_result.append('Середнє значення='+str(sr_arif))\n",
    "    sr_otkl=sr_kv_vidh(dict.get(row)) \n",
    "    print(\"Відхилення курсу\",sr_otkl)\n",
    "    temp_result.append(\"Відхилення курсу=\"+str(sr_otkl))\n",
    "    print('\\n')\n",
    "    result.append(temp_result)\n",
    "    temp_result=[]\n",
    "\n",
    "result"
   ],
   "execution_count":104,
   "outputs":[
    {
     "name":"stdout",
     "text":[
      "Месяц- 06.2022\n",
      "Середнє значення= 29.2549\n",
      "Відхилення курсу 0.0\n",
      "\n",
      "\n",
      "Месяц- 05.2022\n",
      "Середнє значення= 29.2549\n",
      "Відхилення курсу 0.0\n",
      "\n",
      "\n",
      "Месяц- 04.2022\n",
      "Середнє значення= 29.2549\n",
      "Відхилення курсу 0.0\n",
      "\n",
      "\n",
      "Месяц- 03.2022\n",
      "Середнє значення= 29.2549\n",
      "Відхилення курсу 0.0\n",
      "\n",
      "\n",
      "Месяц- 02.2022\n",
      "Середнє значення= 28.41366\n",
      "Відхилення курсу 0.46283\n",
      "\n",
      "\n",
      "Месяц- 01.2022\n",
      "Середнє значення= 27.98127\n",
      "Відхилення курсу 0.58645\n",
      "\n",
      "\n",
      "Месяц- 12.2021\n",
      "Середнє значення= 27.21346\n",
      "Відхилення курсу 0.10439\n",
      "\n",
      "\n",
      "Месяц- 11.2021\n",
      "Середнє значення= 26.44622\n",
      "Відхилення курсу 0.36007\n",
      "\n",
      "\n",
      "Месяц- 10.2021\n",
      "Середнє значення= 26.37468\n",
      "Відхилення курсу 0.1133\n",
      "\n",
      "\n",
      "Месяц- 09.2021\n",
      "Середнє значення= 26.72779\n",
      "Відхилення курсу 0.14753\n",
      "\n",
      "\n",
      "Месяц- 08.2021\n",
      "Середнє значення= 26.78485\n",
      "Відхилення курсу 0.10749\n",
      "\n",
      "\n",
      "Месяц- 07.2021\n",
      "Середнє значення= 27.21455\n",
      "Відхилення курсу 0.15583\n",
      "\n",
      "\n"
     ],
     "output_type":"stream"
    },
    {
     "data":{
      "text\/plain":[
       "[['Месяц-06.2022', 'Середнє значення=29.2549', 'Відхилення курсу=0.0'],\n",
       " ['Месяц-05.2022', 'Середнє значення=29.2549', 'Відхилення курсу=0.0'],\n",
       " ['Месяц-04.2022', 'Середнє значення=29.2549', 'Відхилення курсу=0.0'],\n",
       " ['Месяц-03.2022', 'Середнє значення=29.2549', 'Відхилення курсу=0.0'],\n",
       " ['Месяц-02.2022', 'Середнє значення=28.41366', 'Відхилення курсу=0.46283'],\n",
       " ['Месяц-01.2022', 'Середнє значення=27.98127', 'Відхилення курсу=0.58645'],\n",
       " ['Месяц-12.2021', 'Середнє значення=27.21346', 'Відхилення курсу=0.10439'],\n",
       " ['Месяц-11.2021', 'Середнє значення=26.44622', 'Відхилення курсу=0.36007'],\n",
       " ['Месяц-10.2021', 'Середнє значення=26.37468', 'Відхилення курсу=0.1133'],\n",
       " ['Месяц-09.2021', 'Середнє значення=26.72779', 'Відхилення курсу=0.14753'],\n",
       " ['Месяц-08.2021', 'Середнє значення=26.78485', 'Відхилення курсу=0.10749'],\n",
       " ['Месяц-07.2021', 'Середнє значення=27.21455', 'Відхилення курсу=0.15583']]"
      ]
     },
     "metadata":{
      
     },
     "output_type":"display_data"
    }
   ],
   "metadata":{
    "datalore":{
     "type":"CODE",
     "hide_input_from_viewers":false,
     "hide_output_from_viewers":false
    }
   }
  },
  {
   "cell_type":"markdown",
   "source":[
    "4. Дану інформацію записати у файл за допомогою pickle."
   ],
   "attachments":{
    
   },
   "metadata":{
    "datalore":{
     "type":"MD",
     "hide_input_from_viewers":false,
     "hide_output_from_viewers":false
    }
   }
  },
  {
   "cell_type":"code",
   "source":[
    "import pickle\n",
    "with open('data.pickle', 'wb') as f:\n",
    "    pickle.dump(result, f)"
   ],
   "execution_count":106,
   "outputs":[
    
   ],
   "metadata":{
    "datalore":{
     "type":"CODE",
     "hide_input_from_viewers":false,
     "hide_output_from_viewers":false
    }
   }
  },
  {
   "cell_type":"code",
   "source":[
    "with open('data.pickle', 'rb') as file:\n",
    "    obj=pickle.load(file)\n",
    "obj"
   ],
   "execution_count":107,
   "outputs":[
    {
     "data":{
      "text\/plain":[
       "[['Месяц-06.2022', 'Середнє значення=29.2549', 'Відхилення курсу=0.0'],\n",
       " ['Месяц-05.2022', 'Середнє значення=29.2549', 'Відхилення курсу=0.0'],\n",
       " ['Месяц-04.2022', 'Середнє значення=29.2549', 'Відхилення курсу=0.0'],\n",
       " ['Месяц-03.2022', 'Середнє значення=29.2549', 'Відхилення курсу=0.0'],\n",
       " ['Месяц-02.2022', 'Середнє значення=28.41366', 'Відхилення курсу=0.46283'],\n",
       " ['Месяц-01.2022', 'Середнє значення=27.98127', 'Відхилення курсу=0.58645'],\n",
       " ['Месяц-12.2021', 'Середнє значення=27.21346', 'Відхилення курсу=0.10439'],\n",
       " ['Месяц-11.2021', 'Середнє значення=26.44622', 'Відхилення курсу=0.36007'],\n",
       " ['Месяц-10.2021', 'Середнє значення=26.37468', 'Відхилення курсу=0.1133'],\n",
       " ['Месяц-09.2021', 'Середнє значення=26.72779', 'Відхилення курсу=0.14753'],\n",
       " ['Месяц-08.2021', 'Середнє значення=26.78485', 'Відхилення курсу=0.10749'],\n",
       " ['Месяц-07.2021', 'Середнє значення=27.21455', 'Відхилення курсу=0.15583']]"
      ]
     },
     "metadata":{
      
     },
     "output_type":"display_data"
    }
   ],
   "metadata":{
    "datalore":{
     "type":"CODE",
     "hide_input_from_viewers":false,
     "hide_output_from_viewers":false
    }
   }
  },
  {
   "cell_type":"markdown",
   "source":[
    "### Завдання 2:"
   ],
   "attachments":{
    
   },
   "metadata":{
    "datalore":{
     "type":"MD",
     "hide_input_from_viewers":false,
     "hide_output_from_viewers":false
    }
   }
  },
  {
   "cell_type":"markdown",
   "source":[
    "Потрібно проаналізувати всі товари на сайті: \n",
    "https:\/\/smallpacking.agrosem.ua\/shop\/"
   ],
   "attachments":{
    
   },
   "metadata":{
    "datalore":{
     "type":"MD",
     "hide_input_from_viewers":false,
     "hide_output_from_viewers":false
    }
   }
  },
  {
   "cell_type":"markdown",
   "source":[
    "Створіть базу даних, що містить таблицю із такими стовбцями: \n",
    "    - артикул товару\n",
    "    - найменування\n",
    "    - ціна \n",
    "    - вага"
   ],
   "attachments":{
    
   },
   "metadata":{
    "datalore":{
     "type":"MD",
     "hide_input_from_viewers":false,
     "hide_output_from_viewers":false
    }
   }
  },
  {
   "cell_type":"code",
   "source":[
    
   ],
   "execution_count":null,
   "outputs":[
    
   ],
   "metadata":{
    "datalore":{
     "type":"CODE",
     "hide_input_from_viewers":false,
     "hide_output_from_viewers":false
    }
   }
  },
  {
   "cell_type":"markdown",
   "source":[
    "### Завдання 3: "
   ],
   "attachments":{
    
   },
   "metadata":{
    "datalore":{
     "type":"MD",
     "hide_input_from_viewers":false,
     "hide_output_from_viewers":false
    }
   }
  },
  {
   "cell_type":"markdown",
   "source":[
    "Ознайомтеся із роботою SQLite та відповідним модулем у Python.\n",
    "Завантажте базу даних для виконання лабораторної роботи.\n",
    "Підключіться до завантаженої бази SQLite."
   ],
   "attachments":{
    
   },
   "metadata":{
    "datalore":{
     "type":"MD",
     "hide_input_from_viewers":false,
     "hide_output_from_viewers":false
    }
   }
  },
  {
   "cell_type":"markdown",
   "source":[
    "1. Виведіть інформацію про дану базу."
   ],
   "attachments":{
    
   },
   "metadata":{
    "datalore":{
     "type":"MD",
     "hide_input_from_viewers":false,
     "hide_output_from_viewers":false
    }
   }
  },
  {
   "cell_type":"code",
   "source":[
    
   ],
   "execution_count":null,
   "outputs":[
    
   ],
   "metadata":{
    "datalore":{
     "type":"CODE",
     "hide_input_from_viewers":false,
     "hide_output_from_viewers":false
    }
   }
  },
  {
   "cell_type":"markdown",
   "source":[
    "2. Виведіть перелік всіх таблиць."
   ],
   "attachments":{
    
   },
   "metadata":{
    "datalore":{
     "type":"MD",
     "hide_input_from_viewers":false,
     "hide_output_from_viewers":false
    }
   }
  },
  {
   "cell_type":"code",
   "source":[
    
   ],
   "execution_count":null,
   "outputs":[
    
   ],
   "metadata":{
    "datalore":{
     "type":"CODE",
     "hide_input_from_viewers":false,
     "hide_output_from_viewers":false
    }
   }
  },
  {
   "cell_type":"markdown",
   "source":[
    "3. Список всіх cust_id з таблиці Customers table."
   ],
   "attachments":{
    
   },
   "metadata":{
    "datalore":{
     "type":"MD",
     "hide_input_from_viewers":false,
     "hide_output_from_viewers":false
    }
   }
  },
  {
   "cell_type":"code",
   "source":[
    
   ],
   "execution_count":null,
   "outputs":[
    
   ],
   "metadata":{
    "datalore":{
     "type":"CODE",
     "hide_input_from_viewers":false,
     "hide_output_from_viewers":false
    }
   }
  },
  {
   "cell_type":"markdown",
   "source":[
    "4. Всю таблицю Customers table"
   ],
   "attachments":{
    
   },
   "metadata":{
    "datalore":{
     "type":"MD",
     "hide_input_from_viewers":false,
     "hide_output_from_viewers":false
    }
   }
  },
  {
   "cell_type":"code",
   "source":[
    
   ],
   "execution_count":null,
   "outputs":[
    
   ],
   "metadata":{
    "datalore":{
     "type":"CODE",
     "hide_input_from_viewers":false,
     "hide_output_from_viewers":false
    }
   }
  },
  {
   "cell_type":"markdown",
   "source":[
    "5. Список клієнтів (cust_names) відсортованих від Z до A"
   ],
   "attachments":{
    
   },
   "metadata":{
    "datalore":{
     "type":"MD",
     "hide_input_from_viewers":false,
     "hide_output_from_viewers":false
    }
   }
  },
  {
   "cell_type":"code",
   "source":[
    
   ],
   "execution_count":null,
   "outputs":[
    
   ],
   "metadata":{
    "datalore":{
     "type":"CODE",
     "hide_input_from_viewers":false,
     "hide_output_from_viewers":false
    }
   }
  },
  {
   "cell_type":"markdown",
   "source":[
    "6. Таблицю клієнтів та замовлень (cust_id і order_num) . Відсортуйте по клієнту і потім по даті замовлення"
   ],
   "attachments":{
    
   },
   "metadata":{
    "datalore":{
     "type":"MD",
     "hide_input_from_viewers":false,
     "hide_output_from_viewers":false
    }
   }
  },
  {
   "cell_type":"code",
   "source":[
    
   ],
   "execution_count":null,
   "outputs":[
    
   ],
   "metadata":{
    "datalore":{
     "type":"CODE",
     "hide_input_from_viewers":false,
     "hide_output_from_viewers":false
    }
   }
  },
  {
   "cell_type":"markdown",
   "source":[
    "7. Таблицю (на основі Items) з кількість та вартістю товару. Відсортуйте в порядку спадання по кількості та вартості"
   ],
   "attachments":{
    
   },
   "metadata":{
    "datalore":{
     "type":"MD",
     "hide_input_from_viewers":false,
     "hide_output_from_viewers":false
    }
   }
  },
  {
   "cell_type":"code",
   "source":[
    
   ],
   "execution_count":null,
   "outputs":[
    
   ],
   "metadata":{
    "datalore":{
     "type":"CODE",
     "hide_input_from_viewers":false,
     "hide_output_from_viewers":false
    }
   }
  },
  {
   "cell_type":"markdown",
   "source":[
    "8. Товар (з таблиці Products), ціна якого становить 9.49"
   ],
   "attachments":{
    
   },
   "metadata":{
    "datalore":{
     "type":"MD",
     "hide_input_from_viewers":false,
     "hide_output_from_viewers":false
    }
   }
  },
  {
   "cell_type":"code",
   "source":[
    
   ],
   "execution_count":null,
   "outputs":[
    
   ],
   "metadata":{
    "datalore":{
     "type":"CODE",
     "hide_input_from_viewers":false,
     "hide_output_from_viewers":false
    }
   }
  },
  {
   "cell_type":"markdown",
   "source":[
    "9. Виведіть назву товару та ціну, яка лежить в діапазоні від  3 до 6. Відсортуйте результат в по ціні в порядку зростання"
   ],
   "attachments":{
    
   },
   "metadata":{
    "datalore":{
     "type":"MD",
     "hide_input_from_viewers":false,
     "hide_output_from_viewers":false
    }
   }
  },
  {
   "cell_type":"code",
   "source":[
    
   ],
   "execution_count":null,
   "outputs":[
    
   ],
   "metadata":{
    "datalore":{
     "type":"CODE",
     "hide_input_from_viewers":false,
     "hide_output_from_viewers":false
    }
   }
  },
  {
   "cell_type":"markdown",
   "source":[
    "10. Кількість товару, що було продано"
   ],
   "attachments":{
    
   },
   "metadata":{
    "datalore":{
     "type":"MD",
     "hide_input_from_viewers":false,
     "hide_output_from_viewers":false
    }
   }
  },
  {
   "cell_type":"code",
   "source":[
    
   ],
   "execution_count":null,
   "outputs":[
    
   ],
   "metadata":{
    "datalore":{
     "type":"CODE",
     "hide_input_from_viewers":false,
     "hide_output_from_viewers":false
    }
   }
  },
  {
   "cell_type":"markdown",
   "source":[
    "11. Кількість найменувань товару, ціна якого більша за 4"
   ],
   "attachments":{
    
   },
   "metadata":{
    "datalore":{
     "type":"MD",
     "hide_input_from_viewers":false,
     "hide_output_from_viewers":false
    }
   }
  },
  {
   "cell_type":"code",
   "source":[
    
   ],
   "execution_count":null,
   "outputs":[
    
   ],
   "metadata":{
    "datalore":{
     "type":"CODE",
     "hide_input_from_viewers":false,
     "hide_output_from_viewers":false
    }
   }
  },
  {
   "cell_type":"markdown",
   "source":[
    "12. Розробіть алгоритм для виведення 3 найдорожчих товарів в базі"
   ],
   "attachments":{
    
   },
   "metadata":{
    "datalore":{
     "type":"MD",
     "hide_input_from_viewers":false,
     "hide_output_from_viewers":false
    }
   }
  },
  {
   "cell_type":"code",
   "source":[
    
   ],
   "execution_count":null,
   "outputs":[
    
   ],
   "metadata":{
    "datalore":{
     "type":"CODE",
     "hide_input_from_viewers":false,
     "hide_output_from_viewers":false
    }
   }
  },
  {
   "cell_type":"markdown",
   "source":[
    "13. Підрахуйте кількість замовлень для кожного клієнта використовуючи підзапити"
   ],
   "attachments":{
    
   },
   "metadata":{
    "datalore":{
     "type":"MD",
     "hide_input_from_viewers":false,
     "hide_output_from_viewers":false
    }
   }
  },
  {
   "cell_type":"code",
   "source":[
    
   ],
   "execution_count":null,
   "outputs":[
    
   ],
   "metadata":{
    "datalore":{
     "type":"CODE",
     "hide_input_from_viewers":false,
     "hide_output_from_viewers":false
    }
   }
  },
  {
   "cell_type":"markdown",
   "source":[
    "14. Виведіть список клієнтів та їх замовлення (використайте JOIN)"
   ],
   "attachments":{
    
   },
   "metadata":{
    "datalore":{
     "type":"MD",
     "hide_input_from_viewers":false,
     "hide_output_from_viewers":false
    }
   }
  },
  {
   "cell_type":"code",
   "source":[
    
   ],
   "execution_count":null,
   "outputs":[
    
   ],
   "metadata":{
    "datalore":{
     "type":"CODE",
     "hide_input_from_viewers":false,
     "hide_output_from_viewers":false
    }
   }
  },
  {
   "cell_type":"markdown",
   "source":[
    "15. Зробіть два запити: список товарів, ціна яких менша 5 та список товарів, ціна який більша рівна 5. Використайте UNION для об'єднання цих запитів"
   ],
   "attachments":{
    
   },
   "metadata":{
    "datalore":{
     "type":"MD",
     "hide_input_from_viewers":false,
     "hide_output_from_viewers":false
    }
   }
  },
  {
   "cell_type":"code",
   "source":[
    
   ],
   "execution_count":null,
   "outputs":[
    
   ],
   "metadata":{
    "datalore":{
     "type":"CODE",
     "hide_input_from_viewers":false,
     "hide_output_from_viewers":false
    }
   }
  },
  {
   "cell_type":"markdown",
   "source":[
    "### Завдання 4: "
   ],
   "attachments":{
    
   },
   "metadata":{
    "datalore":{
     "type":"MD",
     "hide_input_from_viewers":false,
     "hide_output_from_viewers":false
    }
   }
  },
  {
   "cell_type":"markdown",
   "source":[
    "Зареєструйтеся на сайті  http:\/\/www.sql-ex.ru\/\n",
    "\n",
    "Виконайте завдання із блоку SELECT; з 1 по 30 завдання\n",
    "\n",
    "Код запитів вставляйте сюди"
   ],
   "attachments":{
    
   },
   "metadata":{
    "datalore":{
     "type":"MD",
     "hide_input_from_viewers":false,
     "hide_output_from_viewers":false
    }
   }
  },
  {
   "cell_type":"code",
   "source":[
    
   ],
   "execution_count":null,
   "outputs":[
    
   ],
   "metadata":{
    "datalore":{
     "type":"CODE",
     "hide_input_from_viewers":false,
     "hide_output_from_viewers":false
    }
   }
  }
 ],
 "metadata":{
  "datalore":{
   "version":1,
   "computation_mode":"JUPYTER",
   "package_manager":"pip",
   "base_environment":"default",
   "packages":[
    
   ]
  }
 },
 "nbformat":4,
 "nbformat_minor":4
}