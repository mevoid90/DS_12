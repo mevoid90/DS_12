{
 "cells": [
  {
   "cell_type": "markdown",
   "id": "cbdc216d",
   "metadata": {},
   "source": [
    "# 1. Markdown cells\n",
    "\n",
    "* Hi! Its Main Academy?\n",
    "* All HTML tabs are supported!\n",
    "* Моя сторiнка на лiнкедiн [Лiнкедiн](https://www.linkedin.com/in/yevhen-serdiuk-7a4a911ab/)\n",
    "\n",
    "# This is Heading1\n",
    "## This is Heading2\n",
    "some gray colored text:\n",
    "> This is where we can bring quotes and present them nicely\n",
    "\n",
    "And this is the paragraph about something very important. Even math:\n",
    "\\begin{equation}\n",
    "y_{sub}=\\sqrt{(x_{sub})}\n",
    "\\end{equation}\n",
    "\n",
    "Or python code example:\n",
    "```python\n",
    "import math\n",
    "def foo():\n",
    "    return \"foo\"    \n",
    "```\n",
    "\n"
   ]
  },
  {
   "cell_type": "markdown",
   "id": "77ca937c",
   "metadata": {},
   "source": [
    "Here is the sample mean:\n",
    "\\begin{equation}\n",
    "\\overline{y} = \\frac{1}{n}\\sum_{i=1}^{n}{y_i}\n",
    "\\end{equation}\n",
    "Here is the sample variance:\n",
    "\\begin{equation}\n",
    "\\sigma^2=\\frac{\\sum_{i=1}^{n}{(y_i-\\overline{y})^2}}{n-1}\n",
    "\\end{equation}\n",
    "Here is the sample standard deviation:\n",
    "\\begin{equation}\n",
    "\\sigma=\\sqrt{\\frac{\\sum_{i=1}^{n}{(y_i-\\overline{y})^2}}{n-1}}\n",
    "\\end{equation}"
   ]
  },
  {
   "cell_type": "code",
   "execution_count": null,
   "id": "40b0c892",
   "metadata": {},
   "outputs": [],
   "source": []
  }
 ],
 "metadata": {
  "kernelspec": {
   "display_name": "Python 3 (ipykernel)",
   "language": "python",
   "name": "python3"
  },
  "language_info": {
   "codemirror_mode": {
    "name": "ipython",
    "version": 3
   },
   "file_extension": ".py",
   "mimetype": "text/x-python",
   "name": "python",
   "nbconvert_exporter": "python",
   "pygments_lexer": "ipython3",
   "version": "3.10.0"
  }
 },
 "nbformat": 4,
 "nbformat_minor": 5
}
