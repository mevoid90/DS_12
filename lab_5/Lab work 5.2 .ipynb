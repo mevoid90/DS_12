{
 "cells":[
  {
   "cell_type":"markdown",
   "source":[
    "___\n",
    "\n",
    "<a href='https:\/\/mainacademy.ua\/'> <img src='https:\/\/mainacademy.ua\/wp-content\/uploads\/2019\/03\/logo-main.png' alt = 'Хмм, щось з інтернетом'\/><\/a>\n",
    "___\n",
    "\n",
    "# Module 5: Data analysis with NumPy and Pandas"
   ],
   "attachments":{
    
   },
   "metadata":{
    "datalore":{
     "type":"MD",
     "hide_input_from_viewers":false,
     "hide_output_from_viewers":false
    }
   }
  },
  {
   "cell_type":"markdown",
   "source":[
    "## Lab work 5.2\n"
   ],
   "attachments":{
    
   },
   "metadata":{
    "datalore":{
     "type":"MD",
     "hide_input_from_viewers":false,
     "hide_output_from_viewers":false
    }
   }
  },
  {
   "cell_type":"markdown",
   "source":[
    "#### Мета: \n",
    "\n",
    "* навчитися працювати із бібліотекою Pandas в Python."
   ],
   "attachments":{
    
   },
   "metadata":{
    "datalore":{
     "type":"MD",
     "hide_input_from_viewers":false,
     "hide_output_from_viewers":false
    }
   }
  },
  {
   "cell_type":"markdown",
   "source":[
    "### Завдання:"
   ],
   "attachments":{
    
   },
   "metadata":{
    "datalore":{
     "type":"MD",
     "hide_input_from_viewers":false,
     "hide_output_from_viewers":false
    }
   }
  },
  {
   "cell_type":"code",
   "source":[
    "import pandas as pd"
   ],
   "execution_count":3,
   "outputs":[
    
   ],
   "metadata":{
    "datalore":{
     "type":"CODE",
     "hide_input_from_viewers":false,
     "hide_output_from_viewers":false
    }
   }
  },
  {
   "cell_type":"markdown",
   "source":[
    "Вивести версію та конфігурацію бібліотеки:"
   ],
   "attachments":{
    
   },
   "metadata":{
    "datalore":{
     "type":"MD",
     "hide_input_from_viewers":false,
     "hide_output_from_viewers":false
    }
   }
  },
  {
   "cell_type":"code",
   "source":[
    "print (pd.__version__)"
   ],
   "execution_count":4,
   "outputs":[
    {
     "name":"stdout",
     "text":[
      "1.3.5\n"
     ],
     "output_type":"stream"
    }
   ],
   "metadata":{
    "datalore":{
     "type":"CODE",
     "hide_input_from_viewers":false,
     "hide_output_from_viewers":false
    }
   }
  },
  {
   "cell_type":"code",
   "source":[
    "df = pd.read_csv('Ecommerce Purchases.csv')"
   ],
   "execution_count":41,
   "outputs":[
    
   ],
   "metadata":{
    "datalore":{
     "type":"CODE",
     "hide_input_from_viewers":false,
     "hide_output_from_viewers":false
    }
   }
  },
  {
   "cell_type":"markdown",
   "source":[
    "Скільки рядків і стовпців в наборі даних:"
   ],
   "attachments":{
    
   },
   "metadata":{
    "datalore":{
     "type":"MD",
     "hide_input_from_viewers":false,
     "hide_output_from_viewers":false
    }
   }
  },
  {
   "cell_type":"code",
   "source":[
    "print(df.shape[0],df.shape[1])"
   ],
   "execution_count":11,
   "outputs":[
    {
     "name":"stdout",
     "text":[
      "10000 14\n"
     ],
     "output_type":"stream"
    }
   ],
   "metadata":{
    "datalore":{
     "type":"CODE",
     "hide_input_from_viewers":false,
     "hide_output_from_viewers":false
    }
   }
  },
  {
   "cell_type":"markdown",
   "source":[
    "Перевірити, чи в наборі даних містяться порожні значення:"
   ],
   "attachments":{
    
   },
   "metadata":{
    "datalore":{
     "type":"MD",
     "hide_input_from_viewers":false,
     "hide_output_from_viewers":false
    }
   }
  },
  {
   "cell_type":"code",
   "source":[
    "print(df.isnull().sum())"
   ],
   "execution_count":16,
   "outputs":[
    {
     "name":"stdout",
     "text":[
      "Address             0\n",
      "Lot                 0\n",
      "AM or PM            0\n",
      "Browser Info        0\n",
      "Company             0\n",
      "Credit Card         0\n",
      "CC Exp Date         0\n",
      "CC Security Code    0\n",
      "CC Provider         0\n",
      "Email               0\n",
      "Job                 0\n",
      "IP Address          0\n",
      "Language            0\n",
      "Purchase Price      0\n",
      "dtype: int64\n"
     ],
     "output_type":"stream"
    }
   ],
   "metadata":{
    "datalore":{
     "type":"CODE",
     "hide_input_from_viewers":false,
     "hide_output_from_viewers":false
    }
   }
  },
  {
   "cell_type":"markdown",
   "source":[
    "Яка середня ціна закупки (Purchase Price):"
   ],
   "attachments":{
    
   },
   "metadata":{
    "datalore":{
     "type":"MD",
     "hide_input_from_viewers":false,
     "hide_output_from_viewers":false
    }
   }
  },
  {
   "cell_type":"code",
   "source":[
    "print(df['Purchase Price'].mean())"
   ],
   "execution_count":17,
   "outputs":[
    {
     "name":"stdout",
     "text":[
      "50.347302\n"
     ],
     "output_type":"stream"
    }
   ],
   "metadata":{
    "datalore":{
     "type":"CODE",
     "hide_input_from_viewers":false,
     "hide_output_from_viewers":false
    }
   }
  },
  {
   "cell_type":"markdown",
   "source":[
    "Скільки людей користуються англійською мовою \"en\" на веб-сайті:"
   ],
   "attachments":{
    
   },
   "metadata":{
    "datalore":{
     "type":"MD",
     "hide_input_from_viewers":false,
     "hide_output_from_viewers":false
    }
   }
  },
  {
   "cell_type":"code",
   "source":[
    "df['Language'].isin(['en']).sum()"
   ],
   "execution_count":33,
   "outputs":[
    {
     "data":{
      "text\/plain":[
       "1098"
      ]
     },
     "metadata":{
      
     },
     "output_type":"display_data"
    }
   ],
   "metadata":{
    "datalore":{
     "type":"CODE",
     "hide_input_from_viewers":false,
     "hide_output_from_viewers":false
    }
   }
  },
  {
   "cell_type":"markdown",
   "source":[
    "Скільки людей має посаду «Lawyer»?"
   ],
   "attachments":{
    
   },
   "metadata":{
    "datalore":{
     "type":"MD",
     "hide_input_from_viewers":false,
     "hide_output_from_viewers":false
    }
   }
  },
  {
   "cell_type":"code",
   "source":[
    "df['Job'].isin(['Lawyer']).sum()"
   ],
   "execution_count":40,
   "outputs":[
    {
     "data":{
      "text\/plain":[
       "30"
      ]
     },
     "metadata":{
      
     },
     "output_type":"display_data"
    }
   ],
   "metadata":{
    "datalore":{
     "type":"CODE",
     "hide_input_from_viewers":false,
     "hide_output_from_viewers":false
    }
   }
  },
  {
   "cell_type":"markdown",
   "source":[
    "Скільки людей зробило покупку вранці та скільки людей зробило покупку після обіду?"
   ],
   "attachments":{
    
   },
   "metadata":{
    "datalore":{
     "type":"MD",
     "hide_input_from_viewers":false,
     "hide_output_from_viewers":false
    }
   }
  },
  {
   "cell_type":"code",
   "source":[
    "print('після обіду=',df['AM or PM'].isin(['PM']).sum())\n",
    "print('вранці=',df['AM or PM'].isin(['AM']).sum())"
   ],
   "execution_count":45,
   "outputs":[
    {
     "name":"stdout",
     "text":[
      "після обіду= 5068\n",
      "вранці= 4932\n"
     ],
     "output_type":"stream"
    }
   ],
   "metadata":{
    "datalore":{
     "type":"CODE",
     "hide_input_from_viewers":false,
     "hide_output_from_viewers":false
    }
   }
  },
  {
   "cell_type":"markdown",
   "source":[
    "Які 5 найпоширеніших назв вакансій?"
   ],
   "attachments":{
    
   },
   "metadata":{
    "datalore":{
     "type":"MD",
     "hide_input_from_viewers":false,
     "hide_output_from_viewers":false
    }
   }
  },
  {
   "cell_type":"code",
   "source":[
    "print(df['Job'].value_counts().head(5))"
   ],
   "execution_count":52,
   "outputs":[
    {
     "name":"stdout",
     "text":[
      "Interior and spatial designer    31\n",
      "Lawyer                           30\n",
      "Social researcher                28\n",
      "Purchasing manager               27\n",
      "Designer, jewellery              27\n",
      "Name: Job, dtype: int64\n"
     ],
     "output_type":"stream"
    }
   ],
   "metadata":{
    "datalore":{
     "type":"CODE",
     "hide_input_from_viewers":false,
     "hide_output_from_viewers":false
    }
   }
  },
  {
   "cell_type":"markdown",
   "source":[
    "Хтось здійснив покупку, яка надійшла від Lot: \"90 Wt\", та якою була ціна придбання для цієї транзакції?"
   ],
   "attachments":{
    
   },
   "metadata":{
    "datalore":{
     "type":"MD",
     "hide_input_from_viewers":false,
     "hide_output_from_viewers":false
    }
   }
  },
  {
   "cell_type":"code",
   "source":[
    "print(df[df['Lot'] == '90 Wt'])\n",
    "#\"90 Wt\" значения в поле Lot не существует\n",
    "# Возьму другое значение Lot-'83 Nj'\n",
    "print(df[df['Lot'] == '83 Nj']['Purchase Price'])"
   ],
   "execution_count":71,
   "outputs":[
    {
     "name":"stdout",
     "text":[
      "Empty DataFrame\n",
      "Columns: [Address, Lot, AM or PM, Browser Info, Company, Credit Card, CC Exp Date, CC Security Code, CC Provider, Email, Job, IP Address, Language, Purchase Price]\n",
      "Index: []\n",
      "8973    17.17\n",
      "Name: Purchase Price, dtype: float64\n"
     ],
     "output_type":"stream"
    }
   ],
   "metadata":{
    "datalore":{
     "type":"CODE",
     "hide_input_from_viewers":false,
     "hide_output_from_viewers":false
    }
   }
  },
  {
   "cell_type":"markdown",
   "source":[
    "Яка електронна адреса особи з таким номером кредитної картки: 4926535242672853 ?"
   ],
   "attachments":{
    
   },
   "metadata":{
    "datalore":{
     "type":"MD",
     "hide_input_from_viewers":false,
     "hide_output_from_viewers":false
    }
   }
  },
  {
   "cell_type":"code",
   "source":[
    "print(df[df['Credit Card'] == 4926535242672853]['Email'])\n"
   ],
   "execution_count":84,
   "outputs":[
    {
     "name":"stdout",
     "text":[
      "1234    bondellen@williams-garza.com\n",
      "Name: Email, dtype: object\n"
     ],
     "output_type":"stream"
    }
   ],
   "metadata":{
    "datalore":{
     "type":"CODE",
     "hide_input_from_viewers":false,
     "hide_output_from_viewers":false
    }
   }
  },
  {
   "cell_type":"markdown",
   "source":[
    "Скільки людей використовує American Express  і здійснили покупку на суму понад 100 доларів?"
   ],
   "attachments":{
    
   },
   "metadata":{
    "datalore":{
     "type":"MD",
     "hide_input_from_viewers":false,
     "hide_output_from_viewers":false
    }
   }
  },
  {
   "cell_type":"code",
   "source":[
    "print(df[df['CC Provider'] == 'American Express']['Email'].value_counts().head(2))\n",
    "#тут мы видим, что группировка не нужна, так как эмейлы не повторяются\n",
    "#Больше 100 выдает 0, указал больше 99\n",
    "\n",
    "print('Скільки людей здійснили покупку на суму понад 99 доларів=',df.loc[(df['CC Provider'] == 'American Express') & (df['Purchase Price'] >= 99)]['Purchase Price'].count())"
   ],
   "execution_count":109,
   "outputs":[
    {
     "name":"stdout",
     "text":[
      "qcoleman@hunt-huerta.com    1\n",
      "tylermorrison@yahoo.com     1\n",
      "Name: Email, dtype: int64\n",
      "Скільки людей здійснили покупку на суму понад 99 доларів= 8\n"
     ],
     "output_type":"stream"
    }
   ],
   "metadata":{
    "datalore":{
     "type":"CODE",
     "hide_input_from_viewers":false,
     "hide_output_from_viewers":false
    }
   }
  },
  {
   "cell_type":"markdown",
   "source":[
    "Скільки людей мають кредитну картку, термін дії якої закінчується в 2025 році?"
   ],
   "attachments":{
    
   },
   "metadata":{
    "datalore":{
     "type":"MD",
     "hide_input_from_viewers":false,
     "hide_output_from_viewers":false
    }
   }
  },
  {
   "cell_type":"code",
   "source":[
    "#1 способ\n",
    "np=df['CC Exp Date']\n",
    "np=np.str[-2:].astype(int)\n",
    "print(np.isin([25]).sum())\n",
    "#2 способ, не лучшее решение, но для данной задачи подойдет так как нет 25 месяца\n",
    "print(df[df['CC Exp Date'].str.contains(\"25\")]['CC Exp Date'].count())"
   ],
   "execution_count":139,
   "outputs":[
    {
     "name":"stdout",
     "text":[
      "1033\n",
      "1033\n"
     ],
     "output_type":"stream"
    }
   ],
   "metadata":{
    "datalore":{
     "type":"CODE",
     "hide_input_from_viewers":false,
     "hide_output_from_viewers":false
    }
   }
  },
  {
   "cell_type":"markdown",
   "source":[
    "Які найкращі 5 найпопулярніших постачальників \/ хостів електронної пошти (наприклад, gmail.com, yahoo.com тощо ...)."
   ],
   "attachments":{
    
   },
   "metadata":{
    "datalore":{
     "type":"MD",
     "hide_input_from_viewers":false,
     "hide_output_from_viewers":false
    }
   }
  },
  {
   "cell_type":"code",
   "source":[
    "em=df['Email']\n",
    "em=em.str.split(\"@\").str[1]\n",
    "print(em.value_counts().head(5))"
   ],
   "execution_count":161,
   "outputs":[
    {
     "name":"stdout",
     "text":[
      "hotmail.com     1638\n",
      "yahoo.com       1616\n",
      "gmail.com       1605\n",
      "smith.com         42\n",
      "williams.com      37\n",
      "Name: Email, dtype: int64\n"
     ],
     "output_type":"stream"
    }
   ],
   "metadata":{
    "datalore":{
     "type":"CODE",
     "hide_input_from_viewers":false,
     "hide_output_from_viewers":false
    }
   }
  },
  {
   "cell_type":"markdown",
   "source":[
    "Виведіть зведену таблицю по браузерах(Browser Info), посаді(Job), та кількості транзакцій :"
   ],
   "attachments":{
    
   },
   "metadata":{
    "datalore":{
     "type":"MD",
     "hide_input_from_viewers":false,
     "hide_output_from_viewers":false
    }
   }
  },
  {
   "cell_type":"code",
   "source":[
    "br=df\n",
    "br['Browser Info']=br['Browser Info'].str.split(\"\/\").str[0]\n",
    "br['countBR']=1\n",
    "br=br.groupby(['Browser Info','Job'])['countBR'].count()\n",
    "print(br)\n"
   ],
   "execution_count":12,
   "outputs":[
    {
     "name":"stdout",
     "text":[
      "Browser Info  Job                             \n",
      "Mozilla       Academic librarian                  10\n",
      "              Accommodation manager               11\n",
      "              Accountant, chartered               14\n",
      "              Accountant, chartered certified     13\n",
      "              Accountant, chartered management    10\n",
      "                                                  ..\n",
      "Opera         Water quality scientist              5\n",
      "              Web designer                         7\n",
      "              Wellsite geologist                   2\n",
      "              Writer                               1\n",
      "              Youth worker                         3\n",
      "Name: countBR, Length: 1222, dtype: int64\n"
     ],
     "output_type":"stream"
    }
   ],
   "metadata":{
    "datalore":{
     "type":"CODE",
     "hide_input_from_viewers":false,
     "hide_output_from_viewers":false
    }
   }
  },
  {
   "cell_type":"markdown",
   "source":[
    "Створіть нову колонку \"Actual price\", яка утворюється із \"Purchase Price\" та націнки за принципом:\n",
    "- якщо \"Purchase Price\" > 50, націнка 20%\n",
    "- якщо \"Purchase Price\" > 100, націнка 10%\n",
    "- в інших випадках націнка 30%\n",
    "   "
   ],
   "attachments":{
    
   },
   "metadata":{
    "datalore":{
     "type":"MD",
     "hide_input_from_viewers":false,
     "hide_output_from_viewers":false
    }
   }
  },
  {
   "cell_type":"code",
   "source":[
    "df['Actual price']=round(df['Purchase Price']*1.3,2)\n",
    "df['Actual price'].where(~(df['Purchase Price'] > 50), other=round(df['Purchase Price']*1.2,2), inplace=True)\n",
    "df['Actual price'].where(~(df['Purchase Price'] > 100), other=round(df['Purchase Price']*1.1,2), inplace=True)\n",
    "\n",
    "print(df)"
   ],
   "execution_count":42,
   "outputs":[
    {
     "name":"stdout",
     "text":[
      "                                                Address    Lot AM or PM  \\\n",
      "0     16629 Pace Camp Apt. 448\\nAlexisborough, NE 77...  46 in       PM   \n",
      "1     9374 Jasmine Spurs Suite 508\\nSouth John, TN 8...  28 rn       PM   \n",
      "2                      Unit 0065 Box 5052\\nDPO AP 27450  94 vE       PM   \n",
      "3                 7780 Julia Fords\\nNew Stacy, WA 45798  36 vm       PM   \n",
      "4     23012 Munoz Drive Suite 337\\nNew Cynthia, TX 5...  20 IE       AM   \n",
      "...                                                 ...    ...      ...   \n",
      "9995      966 Castaneda Locks\\nWest Juliafurt, CO 96415  92 XI       PM   \n",
      "9996  832 Curtis Dam Suite 785\\nNorth Edwardburgh, T...  41 JY       AM   \n",
      "9997              Unit 4434 Box 6343\\nDPO AE 28026-0283  74 Zh       AM   \n",
      "9998               0096 English Rest\\nRoystad, IA 12457  74 cL       PM   \n",
      "9999     40674 Barrett Stravenue\\nGrimesville, WI 79682  64 Hr       AM   \n",
      "\n",
      "                                           Browser Info  \\\n",
      "0     Opera\/9.56.(X11; Linux x86_64; sl-SI) Presto\/2...   \n",
      "1     Opera\/8.93.(Windows 98; Win 9x 4.90; en-US) Pr...   \n",
      "2     Mozilla\/5.0 (compatible; MSIE 9.0; Windows NT ...   \n",
      "3     Mozilla\/5.0 (Macintosh; Intel Mac OS X 10_8_0 ...   \n",
      "4     Opera\/9.58.(X11; Linux x86_64; it-IT) Presto\/2...   \n",
      "...                                                 ...   \n",
      "9995  Mozilla\/5.0 (Windows NT 5.1) AppleWebKit\/5352 ...   \n",
      "9996  Mozilla\/5.0 (compatible; MSIE 9.0; Windows NT ...   \n",
      "9997  Mozilla\/5.0 (Macintosh; U; Intel Mac OS X 10_7...   \n",
      "9998  Mozilla\/5.0 (Macintosh; Intel Mac OS X 10_8_8;...   \n",
      "9999  Mozilla\/5.0 (X11; Linux i686; rv:1.9.5.20) Gec...   \n",
      "\n",
      "                              Company       Credit Card CC Exp Date  \\\n",
      "0                     Martinez-Herman  6011929061123406       02\/20   \n",
      "1     Fletcher, Richards and Whitaker  3337758169645356       11\/18   \n",
      "2          Simpson, Williams and Pham      675957666125       08\/19   \n",
      "3     Williams, Marshall and Buchanan  6011578504430710       02\/24   \n",
      "4           Brown, Watson and Andrews  6011456623207998       10\/25   \n",
      "...                               ...               ...         ...   \n",
      "9995                    Randall-Sloan   342945015358701       03\/22   \n",
      "9996         Hale, Collins and Wilson   210033169205009       07\/25   \n",
      "9997                     Anderson Ltd  6011539787356311       05\/21   \n",
      "9998                         Cook Inc   180003348082930       11\/17   \n",
      "9999                       Greene Inc  4139972901927273       02\/19   \n",
      "\n",
      "      CC Security Code                  CC Provider  \\\n",
      "0                  900                 JCB 16 digit   \n",
      "1                  561                   Mastercard   \n",
      "2                  699                 JCB 16 digit   \n",
      "3                  384                     Discover   \n",
      "4                  678  Diners Club \/ Carte Blanche   \n",
      "...                ...                          ...   \n",
      "9995               838                 JCB 15 digit   \n",
      "9996               207                 JCB 16 digit   \n",
      "9997                 1                VISA 16 digit   \n",
      "9998               987             American Express   \n",
      "9999               302                 JCB 15 digit   \n",
      "\n",
      "                               Email                                     Job  \\\n",
      "0                  pdunlap@yahoo.com  Scientist, product\/process development   \n",
      "1                 anthony41@reed.com                       Drilling engineer   \n",
      "2     amymiller@morales-harrison.com                Customer service manager   \n",
      "3        brent16@olson-robinson.info                       Drilling engineer   \n",
      "4        christopherwright@gmail.com                             Fine artist   \n",
      "...                              ...                                     ...   \n",
      "9995          iscott@wade-garner.com                              Printmaker   \n",
      "9996              mary85@hotmail.com                         Energy engineer   \n",
      "9997               tyler16@gmail.com                      Veterinary surgeon   \n",
      "9998         elizabethmoore@reid.net                Local government officer   \n",
      "9999           rachelford@vaughn.com                  Embryologist, clinical   \n",
      "\n",
      "           IP Address Language  Purchase Price  Actual price  \n",
      "0     149.146.147.205       el           98.14        117.77  \n",
      "1        15.160.41.51       fr           70.73         84.88  \n",
      "2      132.207.160.22       de            0.95          1.23  \n",
      "3        30.250.74.19       es           78.04         93.65  \n",
      "4        24.140.33.94       es           77.82         93.38  \n",
      "...               ...      ...             ...           ...  \n",
      "9995    29.73.197.114       it           82.21         98.65  \n",
      "9996   121.133.168.51       pt           25.63         33.32  \n",
      "9997    156.210.0.254       el           83.98        100.78  \n",
      "9998     55.78.26.143       es           38.84         50.49  \n",
      "9999  176.119.198.199       el           67.59         81.11  \n",
      "\n",
      "[10000 rows x 15 columns]\n"
     ],
     "output_type":"stream"
    }
   ],
   "metadata":{
    "datalore":{
     "type":"CODE",
     "hide_input_from_viewers":false,
     "hide_output_from_viewers":false
    }
   }
  },
  {
   "cell_type":"markdown",
   "source":[
    "Зробіть рангування набору даних по \"Language\" та \"Actual price\" в порядку спадання ціни.\n",
    "\n",
    "https:\/\/pandas.pydata.org\/pandas-docs\/stable\/reference\/api\/pandas.DataFrame.rank.html"
   ],
   "attachments":{
    
   },
   "metadata":{
    "datalore":{
     "type":"MD",
     "hide_input_from_viewers":false,
     "hide_output_from_viewers":false
    }
   }
  },
  {
   "cell_type":"code",
   "source":[
    "df=df.sort_values(['Language','Actual price'],ascending=False).groupby('Language').head(len(df))\n",
    "df = df.reset_index(drop=True)\n",
    "print(df)\n",
    "\n",
    "\n"
   ],
   "execution_count":43,
   "outputs":[
    {
     "name":"stdout",
     "text":[
      "                                                Address    Lot AM or PM  \\\n",
      "0           1479 Vazquez Motorway\\nNorth Mark, ME 98122  09 Pm       PM   \n",
      "1     51591 Robinson Terrace Suite 057\\nLake Brendaf...  97 Cf       AM   \n",
      "2                 PSC 6312, Box 6695\\nAPO AP 67868-1213  09 an       AM   \n",
      "3     085 Lindsey Common\\nNorth Annefort, CA 34213-1469  17 Yb       PM   \n",
      "4     807 Veronica Greens Apt. 643\\nWest Joelstad, W...  22 Pj       PM   \n",
      "...                                                 ...    ...      ...   \n",
      "9995         35839 Harding Cliff\\nNorth Nancy, KY 69599  45 yU       PM   \n",
      "9996              Unit 4027 Box 0841\\nDPO AA 66939-4398  69 ro       AM   \n",
      "9997  58903 Tammy Knolls Suite 270\\nBryantbury, VA 4...  34 PH       AM   \n",
      "9998                   Unit 9279 Box 5039\\nDPO AP 86638  40 Ai       PM   \n",
      "9999  402 Joseph Tunnel Apt. 219\\nMartinmouth, DE 58480  46 Yg       AM   \n",
      "\n",
      "                                           Browser Info  \\\n",
      "0     Mozilla\/5.0 (Windows; U; Windows CE) AppleWebK...   \n",
      "1     Mozilla\/5.0 (Macintosh; U; PPC Mac OS X 10_8_9...   \n",
      "2     Mozilla\/5.0 (X11; Linux i686) AppleWebKit\/5332...   \n",
      "3     Mozilla\/5.0 (iPod; U; CPU iPhone OS 4_1 like M...   \n",
      "4     Mozilla\/5.0 (X11; Linux x86_64; rv:1.9.7.20) G...   \n",
      "...                                                 ...   \n",
      "9995  Mozilla\/5.0 (X11; Linux x86_64; rv:1.9.5.20) G...   \n",
      "9996  Mozilla\/5.0 (Windows NT 6.0) AppleWebKit\/5361 ...   \n",
      "9997  Mozilla\/5.0 (Macintosh; Intel Mac OS X 10_5_6 ...   \n",
      "9998  Mozilla\/5.0 (Macintosh; Intel Mac OS X 10_8_1;...   \n",
      "9999  Mozilla\/5.0 (Macintosh; U; Intel Mac OS X 10_7...   \n",
      "\n",
      "                    Company       Credit Card CC Exp Date  CC Security Code  \\\n",
      "0          Taylor-Hernandez  4365348893985105       07\/23               965   \n",
      "1              Phillips LLC      676332128484       01\/19               254   \n",
      "2           Ferguson-Newman  3112374849244387       08\/25               596   \n",
      "3     Davis, Smith and Horn  4035283508505354       11\/23               388   \n",
      "4               Simon-Brown  6011933482559693       03\/25               362   \n",
      "...                     ...               ...         ...               ...   \n",
      "9995     Carpenter and Sons  4197785582926169       07\/26              6639   \n",
      "9996          Aguilar-Jones     4517471815158       06\/18               838   \n",
      "9997        Williams-Torres    30250854692733       05\/26               976   \n",
      "9998            Roberts LLC   180054117657378       01\/25               304   \n",
      "9999           Wagner Group  4720459683484280       08\/21               866   \n",
      "\n",
      "                      CC Provider                         Email  \\\n",
      "0                         Maestro             tonya79@perez.com   \n",
      "1                   VISA 16 digit         dannyclark@hebert.org   \n",
      "2                         Maestro             devon84@yahoo.com   \n",
      "3     Diners Club \/ Carte Blanche          brownsarah@gmail.com   \n",
      "4                         Voyager       yrios@bryant-lawson.com   \n",
      "...                           ...                           ...   \n",
      "9995                     Discover  ryandaniel@bird-mckinney.com   \n",
      "9996                 JCB 16 digit   cunninghamemily@hotmail.com   \n",
      "9997                 JCB 16 digit         kylefrost@hancock.org   \n",
      "9998                      Voyager       heatherpham@hotmail.com   \n",
      "9999                   Mastercard         emilypotter@yahoo.com   \n",
      "\n",
      "                                        Job      IP Address Language  \\\n",
      "0                        Purchasing manager   140.36.137.61       zh   \n",
      "1                            Prison officer   94.22.150.127       zh   \n",
      "2                           Systems analyst  27.227.251.250       zh   \n",
      "3                                  Animator    70.85.86.203       zh   \n",
      "4                   Engineer, manufacturing   225.18.186.10       zh   \n",
      "...                                     ...             ...      ...   \n",
      "9995   International aid\/development worker  108.226.212.60       de   \n",
      "9996  Development worker, international aid     249.9.4.137       de   \n",
      "9997                      Systems developer  69.174.252.220       de   \n",
      "9998           Research officer, government  118.191.31.116       de   \n",
      "9999                             IT trainer    69.92.84.253       de   \n",
      "\n",
      "      Purchase Price  Actual price  \n",
      "0              99.61        119.53  \n",
      "1              99.43        119.32  \n",
      "2              99.26        119.11  \n",
      "3              99.12        118.94  \n",
      "4              98.98        118.78  \n",
      "...              ...           ...  \n",
      "9995            0.49          0.64  \n",
      "9996            0.41          0.53  \n",
      "9997            0.20          0.26  \n",
      "9998            0.03          0.04  \n",
      "9999            0.02          0.03  \n",
      "\n",
      "[10000 rows x 15 columns]\n"
     ],
     "output_type":"stream"
    }
   ],
   "metadata":{
    "datalore":{
     "type":"CODE",
     "hide_input_from_viewers":false,
     "hide_output_from_viewers":false
    }
   }
  },
  {
   "cell_type":"markdown",
   "source":[
    "Колонку \"Language\" (категоріальна змінна) \"закодуйте\", тобто утворити індикаторні колоник. В наборі не повинна залишитися колонка \"Language\".\n",
    "\n",
    "https:\/\/pandas.pydata.org\/pandas-docs\/stable\/reference\/api\/pandas.DataFrame.rank.html"
   ],
   "attachments":{
    
   },
   "metadata":{
    "datalore":{
     "type":"MD",
     "hide_input_from_viewers":false,
     "hide_output_from_viewers":false
    }
   }
  },
  {
   "cell_type":"code",
   "source":[
    "lang=df['Language'].unique()\n",
    "for i in lang:\n",
    "    df[i]=0\n",
    "for i in lang:\n",
    "    df[i].where(~(df['Language'] == i), other=1, inplace=True)\n",
    "del df['Language']\n",
    "print(df)\n"
   ],
   "execution_count":44,
   "outputs":[
    {
     "name":"stdout",
     "text":[
      "                                                Address    Lot AM or PM  \\\n",
      "0           1479 Vazquez Motorway\\nNorth Mark, ME 98122  09 Pm       PM   \n",
      "1     51591 Robinson Terrace Suite 057\\nLake Brendaf...  97 Cf       AM   \n",
      "2                 PSC 6312, Box 6695\\nAPO AP 67868-1213  09 an       AM   \n",
      "3     085 Lindsey Common\\nNorth Annefort, CA 34213-1469  17 Yb       PM   \n",
      "4     807 Veronica Greens Apt. 643\\nWest Joelstad, W...  22 Pj       PM   \n",
      "...                                                 ...    ...      ...   \n",
      "9995         35839 Harding Cliff\\nNorth Nancy, KY 69599  45 yU       PM   \n",
      "9996              Unit 4027 Box 0841\\nDPO AA 66939-4398  69 ro       AM   \n",
      "9997  58903 Tammy Knolls Suite 270\\nBryantbury, VA 4...  34 PH       AM   \n",
      "9998                   Unit 9279 Box 5039\\nDPO AP 86638  40 Ai       PM   \n",
      "9999  402 Joseph Tunnel Apt. 219\\nMartinmouth, DE 58480  46 Yg       AM   \n",
      "\n",
      "                                           Browser Info  \\\n",
      "0     Mozilla\/5.0 (Windows; U; Windows CE) AppleWebK...   \n",
      "1     Mozilla\/5.0 (Macintosh; U; PPC Mac OS X 10_8_9...   \n",
      "2     Mozilla\/5.0 (X11; Linux i686) AppleWebKit\/5332...   \n",
      "3     Mozilla\/5.0 (iPod; U; CPU iPhone OS 4_1 like M...   \n",
      "4     Mozilla\/5.0 (X11; Linux x86_64; rv:1.9.7.20) G...   \n",
      "...                                                 ...   \n",
      "9995  Mozilla\/5.0 (X11; Linux x86_64; rv:1.9.5.20) G...   \n",
      "9996  Mozilla\/5.0 (Windows NT 6.0) AppleWebKit\/5361 ...   \n",
      "9997  Mozilla\/5.0 (Macintosh; Intel Mac OS X 10_5_6 ...   \n",
      "9998  Mozilla\/5.0 (Macintosh; Intel Mac OS X 10_8_1;...   \n",
      "9999  Mozilla\/5.0 (Macintosh; U; Intel Mac OS X 10_7...   \n",
      "\n",
      "                    Company       Credit Card CC Exp Date  CC Security Code  \\\n",
      "0          Taylor-Hernandez  4365348893985105       07\/23               965   \n",
      "1              Phillips LLC      676332128484       01\/19               254   \n",
      "2           Ferguson-Newman  3112374849244387       08\/25               596   \n",
      "3     Davis, Smith and Horn  4035283508505354       11\/23               388   \n",
      "4               Simon-Brown  6011933482559693       03\/25               362   \n",
      "...                     ...               ...         ...               ...   \n",
      "9995     Carpenter and Sons  4197785582926169       07\/26              6639   \n",
      "9996          Aguilar-Jones     4517471815158       06\/18               838   \n",
      "9997        Williams-Torres    30250854692733       05\/26               976   \n",
      "9998            Roberts LLC   180054117657378       01\/25               304   \n",
      "9999           Wagner Group  4720459683484280       08\/21               866   \n",
      "\n",
      "                      CC Provider                         Email  ...  \\\n",
      "0                         Maestro             tonya79@perez.com  ...   \n",
      "1                   VISA 16 digit         dannyclark@hebert.org  ...   \n",
      "2                         Maestro             devon84@yahoo.com  ...   \n",
      "3     Diners Club \/ Carte Blanche          brownsarah@gmail.com  ...   \n",
      "4                         Voyager       yrios@bryant-lawson.com  ...   \n",
      "...                           ...                           ...  ...   \n",
      "9995                     Discover  ryandaniel@bird-mckinney.com  ...   \n",
      "9996                 JCB 16 digit   cunninghamemily@hotmail.com  ...   \n",
      "9997                 JCB 16 digit         kylefrost@hancock.org  ...   \n",
      "9998                      Voyager       heatherpham@hotmail.com  ...   \n",
      "9999                   Mastercard         emilypotter@yahoo.com  ...   \n",
      "\n",
      "     Actual price zh  ru  pt  it  fr  es  en  el  de  \n",
      "0          119.53  1   0   0   0   0   0   0   0   0  \n",
      "1          119.32  1   0   0   0   0   0   0   0   0  \n",
      "2          119.11  1   0   0   0   0   0   0   0   0  \n",
      "3          118.94  1   0   0   0   0   0   0   0   0  \n",
      "4          118.78  1   0   0   0   0   0   0   0   0  \n",
      "...           ... ..  ..  ..  ..  ..  ..  ..  ..  ..  \n",
      "9995         0.64  0   0   0   0   0   0   0   0   1  \n",
      "9996         0.53  0   0   0   0   0   0   0   0   1  \n",
      "9997         0.26  0   0   0   0   0   0   0   0   1  \n",
      "9998         0.04  0   0   0   0   0   0   0   0   1  \n",
      "9999         0.03  0   0   0   0   0   0   0   0   1  \n",
      "\n",
      "[10000 rows x 23 columns]\n"
     ],
     "output_type":"stream"
    }
   ],
   "metadata":{
    "datalore":{
     "type":"CODE",
     "hide_input_from_viewers":false,
     "hide_output_from_viewers":false
    }
   }
  },
  {
   "cell_type":"markdown",
   "source":[
    "Кінцевий набір даних збережіть у файл з розширенням csv."
   ],
   "attachments":{
    
   },
   "metadata":{
    "datalore":{
     "type":"MD",
     "hide_input_from_viewers":false,
     "hide_output_from_viewers":false
    }
   }
  },
  {
   "cell_type":"code",
   "source":[
    "df.to_csv('out.csv')"
   ],
   "execution_count":45,
   "outputs":[
    
   ],
   "metadata":{
    "datalore":{
     "type":"CODE",
     "hide_input_from_viewers":false,
     "hide_output_from_viewers":false
    }
   }
  },
  {
   "cell_type":"code",
   "source":[
    
   ],
   "execution_count":null,
   "outputs":[
    
   ],
   "metadata":{
    "datalore":{
     "type":"CODE",
     "hide_input_from_viewers":false,
     "hide_output_from_viewers":false
    }
   }
  }
 ],
 "metadata":{
  "datalore":{
   "version":1,
   "computation_mode":"JUPYTER",
   "package_manager":"pip",
   "base_environment":"default",
   "packages":[
    
   ]
  }
 },
 "nbformat":4,
 "nbformat_minor":4
}