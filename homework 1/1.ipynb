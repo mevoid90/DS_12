{
 "cells":[
  {
   "cell_type":"code",
   "source":[
    "a=input('Введите число а')\n",
    "b=input('Введите число b')"
   ],
   "execution_count":18,
   "outputs":[
    {
     "name":"stdout",
     "text":[
      "Введите число а 12\n",
      "Введите число b 24\n"
     ],
     "output_type":"stream"
    }
   ],
   "metadata":{
    "datalore":{
     "type":"CODE",
     "hide_input_from_viewers":false,
     "hide_output_from_viewers":false
    }
   }
  },
  {
   "cell_type":"code",
   "source":[
    "if int(a)>0:\n",
    "    print('Число a додатнє')\n",
    "else: print('Число a не додатнє')\n",
    "\n",
    "if int(a)%2==0:\n",
    "    print('Число a парне')\n",
    "else: print('Число a не парне')\n",
    "\n",
    "if int(a)%13==0:\n",
    "    print('Число a кратне 13')\n",
    "else: print('Число a не кратне 13')\n",
    "    \n",
    "if int(a)%2==0 and int(b)%2==0:\n",
    "    print('Кожне із чисел A та B - парне')\n",
    "else: print('Число a або b не парнi')\n",
    "    \n",
    "if (int(a)%2==0 and int(b)%2==0) or (int(a)%2!=0 and int(b)%2!=0):\n",
    "    print('Кожне із чисел A та B мають однакову парність')\n",
    "else: print('Кожне із чисел A та B не мають однакову парність')\n"
   ],
   "execution_count":19,
   "outputs":[
    {
     "name":"stdout",
     "text":[
      "Число a додатнє\n",
      "Число a парне\n",
      "Число a не кратне 13\n",
      "Кожне із чисел A та B - парне\n",
      "Кожне із чисел A та B мають однакову парність\n"
     ],
     "output_type":"stream"
    }
   ],
   "metadata":{
    "datalore":{
     "type":"CODE",
     "hide_input_from_viewers":false,
     "hide_output_from_viewers":false
    }
   }
  },
  {
   "cell_type":"code",
   "source":[
    
   ],
   "execution_count":null,
   "outputs":[
    
   ],
   "metadata":{
    "datalore":{
     "type":"CODE",
     "hide_input_from_viewers":false,
     "hide_output_from_viewers":false
    }
   }
  }
 ],
 "metadata":{
  "datalore":{
   "version":1,
   "computation_mode":"JUPYTER",
   "package_manager":"pip",
   "base_environment":"default",
   "packages":[
    
   ]
  }
 },
 "nbformat":4,
 "nbformat_minor":4
}