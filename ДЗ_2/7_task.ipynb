{
 "cells":[
  {
   "cell_type":"code",
   "source":[
    "input_numbers=[]\n",
    "for i in range(10):\n",
    "    input_numbers.append(int(input('Введите число')))\n",
    "    \n",
    "       \n",
    "for k in input_numbers:\n",
    "    if k > 1:\n",
    "        for i in range(2, int(k\/2)+1):\n",
    "            if (k % i) == 0:\n",
    "                print(\"Это не простое число\",k)\n",
    "                break\n",
    "            else:\n",
    "                print(\"Это простое число\",k) \n",
    "                break\n",
    "\n",
    "    else: \n",
    "        print(\"Это не простое число\",k)"
   ],
   "execution_count":6,
   "outputs":[
    {
     "name":"stdout",
     "text":[
      "Введите число 5\n",
      "Введите число 8\n",
      "Введите число 10\n",
      "Введите число 11\n",
      "Введите число 13\n",
      "Введите число 4\n",
      "Введите число 32\n",
      "Введите число 6\n",
      "Введите число 7\n",
      "Введите число 34\n",
      "Это простое число 5\n",
      "Это не простое число 8\n",
      "Это не простое число 10\n",
      "Это простое число 11\n",
      "Это простое число 13\n",
      "Это не простое число 4\n",
      "Это не простое число 32\n",
      "Это не простое число 6\n",
      "Это простое число 7\n",
      "Это не простое число 34\n"
     ],
     "output_type":"stream"
    }
   ],
   "metadata":{
    "datalore":{
     "type":"CODE",
     "hide_input_from_viewers":false,
     "hide_output_from_viewers":false
    }
   }
  },
  {
   "cell_type":"code",
   "source":[
    
   ],
   "execution_count":null,
   "outputs":[
    
   ],
   "metadata":{
    "datalore":{
     "type":"CODE",
     "hide_input_from_viewers":false,
     "hide_output_from_viewers":false
    }
   }
  }
 ],
 "metadata":{
  "datalore":{
   "version":1,
   "computation_mode":"JUPYTER",
   "package_manager":"pip",
   "base_environment":"default",
   "packages":[
    
   ]
  }
 },
 "nbformat":4,
 "nbformat_minor":4
}