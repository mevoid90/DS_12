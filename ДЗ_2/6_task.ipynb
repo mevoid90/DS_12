{
 "cells":[
  {
   "cell_type":"code",
   "source":[
    "input_numbers=[]\n",
    "sum=0\n",
    "for i in range(10):\n",
    "    input_numbers.append(int(input('Введите число')))\n",
    "    sum+=int(input_numbers[i])\n",
    "\n",
    "sr_arif= sum\/len(input_numbers)\n",
    "print(\"Среднее арифметическое=\",sr_arif)\n"
   ],
   "execution_count":41,
   "outputs":[
    {
     "name":"stdout",
     "text":[
      "Введите число 1\n",
      "Введите число 2\n",
      "Введите число 4\n",
      "Введите число 5\n",
      "Введите число 6\n",
      "Введите число 3\n",
      "Введите число 10\n",
      "Введите число 9\n",
      "Введите число 8\n",
      "Введите число 7\n",
      "Среднее арифметическое= 5.5\n"
     ],
     "output_type":"stream"
    }
   ],
   "metadata":{
    "datalore":{
     "type":"CODE",
     "hide_input_from_viewers":false,
     "hide_output_from_viewers":false
    }
   }
  },
  {
   "cell_type":"code",
   "source":[
    "input_numbers_sorted=sorted(input_numbers)\n",
    "print(input_numbers_sorted)\n",
    "if (len(input_numbers))%2==0:\n",
    "    s=len(input_numbers)\/\/2 \n",
    "    mediana=(int(input_numbers_sorted[s])+int(input_numbers_sorted[s-1]))\/2\n",
    "else: mediana=input_numbers_sorted[len(input_numbers)\/\/2]\n",
    "print('Медиана=',mediana)"
   ],
   "execution_count":43,
   "outputs":[
    {
     "name":"stdout",
     "text":[
      "[1, 2, 3, 4, 5, 6, 7, 8, 9, 10]\n",
      "Медиана= 5.5\n"
     ],
     "output_type":"stream"
    }
   ],
   "metadata":{
    "datalore":{
     "type":"CODE",
     "hide_input_from_viewers":false,
     "hide_output_from_viewers":false
    }
   }
  },
  {
   "cell_type":"code",
   "source":[
    "import math\n",
    "rost=[185,185,176,171,163,186,186,170,192,174]\n",
    "sum_rost=0\n",
    "sum_of_kv=0\n",
    "for i in rost:\n",
    "    sum_rost+=i\n",
    "\n",
    "sr_arif_rost= sum_rost\/len(rost)\n",
    "print(\"Среднее арифметическое\",sr_arif_rost)\n",
    "temp_array=[]\n",
    "for i in range(len(rost)):\n",
    "    temp_array.append(rost[i]-sr_arif_rost)\n",
    "for i in range(len(temp_array)):\n",
    "    temp_array[i]=temp_array[i]*temp_array[i]\n",
    "print(temp_array)\n",
    "for i in range(len(temp_array)):\n",
    "    sum_of_kv+=temp_array[i]\n",
    "#print(sum_of_kv)\n",
    "k=sum_of_kv\/(len(rost)-1)\n",
    "#print(k)\n",
    "sr_otkl=math.sqrt(k)\n",
    "print(\"Cтандартное отклонение\",sr_otkl)\n",
    "    "
   ],
   "execution_count":72,
   "outputs":[
    {
     "name":"stdout",
     "text":[
      "Среднее арифметическое 178.8\n",
      "[38.439999999999856, 38.439999999999856, 7.840000000000064, 60.840000000000174, 249.64000000000036, 51.83999999999983, 51.83999999999983, 77.4400000000002, 174.2399999999997, 23.04000000000011]\n",
      "Cтандартное отклонение 9.271221901969316\n"
     ],
     "output_type":"stream"
    }
   ],
   "metadata":{
    "datalore":{
     "type":"CODE",
     "hide_input_from_viewers":false,
     "hide_output_from_viewers":false
    }
   }
  },
  {
   "cell_type":"code",
   "source":[
    
   ],
   "execution_count":null,
   "outputs":[
    
   ],
   "metadata":{
    "datalore":{
     "type":"CODE",
     "hide_input_from_viewers":false,
     "hide_output_from_viewers":false
    }
   }
  }
 ],
 "metadata":{
  "datalore":{
   "version":1,
   "computation_mode":"JUPYTER",
   "package_manager":"pip",
   "base_environment":"default",
   "packages":[
    
   ]
  }
 },
 "nbformat":4,
 "nbformat_minor":4
}